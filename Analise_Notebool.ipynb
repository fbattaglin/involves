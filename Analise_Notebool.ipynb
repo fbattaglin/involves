{
 "cells": [
  {
   "cell_type": "code",
   "execution_count": 1,
   "metadata": {},
   "outputs": [],
   "source": [
    "#importanto libraries\n",
    "import pandas as pd\n",
    "import numpy as np\n",
    "import datetime as dt\n",
    "import matplotlib.pyplot as plt\n",
    "import seaborn as sns\n",
    "import scipy.stats as scy\n",
    "import geopandas\n",
    "from shapely.geometry import Point\n",
    "from scipy.stats import ttest_ind\n",
    "sns.set()"
   ]
  },
  {
   "cell_type": "markdown",
   "metadata": {},
   "source": [
    "# Análise da base de dados -  Involves\n",
    "\n",
    "**INSTRUÇÕES:** Faça agora uma análise da base de dados que está no link abaixo e relacione de 5 a 10 insights que você considera mais importantes. Capriche, mostre aqui todo seu potencial. \n",
    "\n",
    "## Visitas\n",
    "\n",
    "Primeiro vamos importar e fazer uma análise inicial da primeira planilha, que chamaremos de \"Visitas\"."
   ]
  },
  {
   "cell_type": "code",
   "execution_count": 2,
   "metadata": {},
   "outputs": [],
   "source": [
    "visitas = pd.read_excel('Base de Dados para Prova de Data Scientist v1.xlsx', sheet_name= 'Visitas')"
   ]
  },
  {
   "cell_type": "code",
   "execution_count": 3,
   "metadata": {},
   "outputs": [
    {
     "data": {
      "text/html": [
       "<div>\n",
       "<style scoped>\n",
       "    .dataframe tbody tr th:only-of-type {\n",
       "        vertical-align: middle;\n",
       "    }\n",
       "\n",
       "    .dataframe tbody tr th {\n",
       "        vertical-align: top;\n",
       "    }\n",
       "\n",
       "    .dataframe thead th {\n",
       "        text-align: right;\n",
       "    }\n",
       "</style>\n",
       "<table border=\"1\" class=\"dataframe\">\n",
       "  <thead>\n",
       "    <tr style=\"text-align: right;\">\n",
       "      <th></th>\n",
       "      <th>Colaborador</th>\n",
       "      <th>Colaborador Superior</th>\n",
       "      <th>Regional</th>\n",
       "      <th>Rede</th>\n",
       "      <th>Bandeira</th>\n",
       "      <th>Ponto de Venda</th>\n",
       "      <th>Tipo PDV</th>\n",
       "      <th>Código do PDV</th>\n",
       "      <th>Perfil PDV</th>\n",
       "      <th>Canal PDV</th>\n",
       "      <th>...</th>\n",
       "      <th>Pesquisas Realizadas</th>\n",
       "      <th>Pesquisas Previstas</th>\n",
       "      <th>Respondeu Todas as Pesquisas</th>\n",
       "      <th>Total de Fotos</th>\n",
       "      <th>Tempo em Loja realizado - Manual</th>\n",
       "      <th>Tempo em Loja realizado - GPS</th>\n",
       "      <th>Tempo em Loja Previsto</th>\n",
       "      <th>Saldo</th>\n",
       "      <th>Atraso Entrada - Checkin Manual</th>\n",
       "      <th>Atraso Entrada - Checkin GPS</th>\n",
       "    </tr>\n",
       "  </thead>\n",
       "  <tbody>\n",
       "    <tr>\n",
       "      <th>0</th>\n",
       "      <td>Abel Malafaia</td>\n",
       "      <td>Adelino León</td>\n",
       "      <td>REGIONAL SAO PAULO</td>\n",
       "      <td>SILVA E BARBOSA COMERCIO DE ALIM</td>\n",
       "      <td>BARBOSA</td>\n",
       "      <td>SILVA E BARBOSA COMERCIO DE AL 0001</td>\n",
       "      <td>NaN</td>\n",
       "      <td>20133</td>\n",
       "      <td>NaN</td>\n",
       "      <td>Médio Varejo</td>\n",
       "      <td>...</td>\n",
       "      <td>0</td>\n",
       "      <td>0</td>\n",
       "      <td>Não</td>\n",
       "      <td>0</td>\n",
       "      <td>00:00:00</td>\n",
       "      <td>00:00:00</td>\n",
       "      <td>01:00:00</td>\n",
       "      <td>NaN</td>\n",
       "      <td>00:00:00</td>\n",
       "      <td>00:00:00</td>\n",
       "    </tr>\n",
       "    <tr>\n",
       "      <th>1</th>\n",
       "      <td>Abel Malafaia</td>\n",
       "      <td>Adelino León</td>\n",
       "      <td>REGIONAL SAO PAULO</td>\n",
       "      <td>SUPERM IRM LOPES SA</td>\n",
       "      <td>LOPES SUPERMERCADOS</td>\n",
       "      <td>SUPERM IRM LOPES SA LJ 08      0009</td>\n",
       "      <td>NaN</td>\n",
       "      <td>18622</td>\n",
       "      <td>NaN</td>\n",
       "      <td>Contas-Chave Regionais</td>\n",
       "      <td>...</td>\n",
       "      <td>0</td>\n",
       "      <td>0</td>\n",
       "      <td>Não</td>\n",
       "      <td>0</td>\n",
       "      <td>00:00:00</td>\n",
       "      <td>00:00:00</td>\n",
       "      <td>01:00:00</td>\n",
       "      <td>NaN</td>\n",
       "      <td>00:00:00</td>\n",
       "      <td>00:00:00</td>\n",
       "    </tr>\n",
       "    <tr>\n",
       "      <th>2</th>\n",
       "      <td>Abel Malafaia</td>\n",
       "      <td>Adelino León</td>\n",
       "      <td>REGIONAL SAO PAULO</td>\n",
       "      <td>SP BRASIL ATACADO VAREJ GEN LTDA LJ</td>\n",
       "      <td>NAGUMO</td>\n",
       "      <td>BOM BRASIL COM  DE ALIMENTOS L 0001</td>\n",
       "      <td>NaN</td>\n",
       "      <td>46179</td>\n",
       "      <td>NaN</td>\n",
       "      <td>Contas-Chave Regionais</td>\n",
       "      <td>...</td>\n",
       "      <td>39</td>\n",
       "      <td>35</td>\n",
       "      <td>Sim</td>\n",
       "      <td>0</td>\n",
       "      <td>04:15:45</td>\n",
       "      <td>00:00:00</td>\n",
       "      <td>00:00:00</td>\n",
       "      <td>NaN</td>\n",
       "      <td>00:00:00</td>\n",
       "      <td>00:00:00</td>\n",
       "    </tr>\n",
       "    <tr>\n",
       "      <th>3</th>\n",
       "      <td>Iara Madruga</td>\n",
       "      <td>Ana Noronha</td>\n",
       "      <td>REGIONAL SAO PAULO</td>\n",
       "      <td>CIA BRAS DE DISTRIBUICAO</td>\n",
       "      <td>0</td>\n",
       "      <td>MIXTER ATACADO E VAREJO DE GEN 0006</td>\n",
       "      <td>10 a 19 Check outs</td>\n",
       "      <td>68901</td>\n",
       "      <td>NaN</td>\n",
       "      <td>Contas-Chave Regionais</td>\n",
       "      <td>...</td>\n",
       "      <td>36</td>\n",
       "      <td>36</td>\n",
       "      <td>Sim</td>\n",
       "      <td>0</td>\n",
       "      <td>04:14:09</td>\n",
       "      <td>04:16:20</td>\n",
       "      <td>02:00:00</td>\n",
       "      <td>02:14:09</td>\n",
       "      <td>00:00:00</td>\n",
       "      <td>00:00:00</td>\n",
       "    </tr>\n",
       "    <tr>\n",
       "      <th>4</th>\n",
       "      <td>Priscila Beltrán</td>\n",
       "      <td>Adelino León</td>\n",
       "      <td>REGIONAL SAO PAULO</td>\n",
       "      <td>ATACADAO S A</td>\n",
       "      <td>ATACADÃO S/A</td>\n",
       "      <td>ATACADAO S A                   0120</td>\n",
       "      <td>NaN</td>\n",
       "      <td>48554</td>\n",
       "      <td>NaN</td>\n",
       "      <td>Especial (Atacadão)</td>\n",
       "      <td>...</td>\n",
       "      <td>41</td>\n",
       "      <td>41</td>\n",
       "      <td>Sim</td>\n",
       "      <td>10</td>\n",
       "      <td>03:42:42</td>\n",
       "      <td>03:53:35</td>\n",
       "      <td>02:40:00</td>\n",
       "      <td>01:02:42</td>\n",
       "      <td>00:00:00</td>\n",
       "      <td>00:00:00</td>\n",
       "    </tr>\n",
       "  </tbody>\n",
       "</table>\n",
       "<p>5 rows × 37 columns</p>\n",
       "</div>"
      ],
      "text/plain": [
       "        Colaborador Colaborador Superior            Regional  \\\n",
       "0     Abel Malafaia         Adelino León  REGIONAL SAO PAULO   \n",
       "1     Abel Malafaia         Adelino León  REGIONAL SAO PAULO   \n",
       "2     Abel Malafaia         Adelino León  REGIONAL SAO PAULO   \n",
       "3      Iara Madruga          Ana Noronha  REGIONAL SAO PAULO   \n",
       "4  Priscila Beltrán         Adelino León  REGIONAL SAO PAULO   \n",
       "\n",
       "                                  Rede             Bandeira  \\\n",
       "0     SILVA E BARBOSA COMERCIO DE ALIM              BARBOSA   \n",
       "1                  SUPERM IRM LOPES SA  LOPES SUPERMERCADOS   \n",
       "2  SP BRASIL ATACADO VAREJ GEN LTDA LJ               NAGUMO   \n",
       "3             CIA BRAS DE DISTRIBUICAO                    0   \n",
       "4                         ATACADAO S A         ATACADÃO S/A   \n",
       "\n",
       "                        Ponto de Venda            Tipo PDV  Código do PDV  \\\n",
       "0  SILVA E BARBOSA COMERCIO DE AL 0001                 NaN          20133   \n",
       "1  SUPERM IRM LOPES SA LJ 08      0009                 NaN          18622   \n",
       "2  BOM BRASIL COM  DE ALIMENTOS L 0001                 NaN          46179   \n",
       "3  MIXTER ATACADO E VAREJO DE GEN 0006  10 a 19 Check outs          68901   \n",
       "4  ATACADAO S A                   0120                 NaN          48554   \n",
       "\n",
       "   Perfil PDV               Canal PDV             ...               \\\n",
       "0         NaN            Médio Varejo             ...                \n",
       "1         NaN  Contas-Chave Regionais             ...                \n",
       "2         NaN  Contas-Chave Regionais             ...                \n",
       "3         NaN  Contas-Chave Regionais             ...                \n",
       "4         NaN     Especial (Atacadão)             ...                \n",
       "\n",
       "  Pesquisas Realizadas  Pesquisas Previstas Respondeu Todas as Pesquisas  \\\n",
       "0                    0                    0                          Não   \n",
       "1                    0                    0                          Não   \n",
       "2                   39                   35                          Sim   \n",
       "3                   36                   36                          Sim   \n",
       "4                   41                   41                          Sim   \n",
       "\n",
       "  Total de Fotos Tempo em Loja realizado - Manual  \\\n",
       "0              0                         00:00:00   \n",
       "1              0                         00:00:00   \n",
       "2              0                         04:15:45   \n",
       "3              0                         04:14:09   \n",
       "4             10                         03:42:42   \n",
       "\n",
       "  Tempo em Loja realizado - GPS Tempo em Loja Previsto     Saldo  \\\n",
       "0                      00:00:00               01:00:00       NaN   \n",
       "1                      00:00:00               01:00:00       NaN   \n",
       "2                      00:00:00               00:00:00       NaN   \n",
       "3                      04:16:20               02:00:00  02:14:09   \n",
       "4                      03:53:35               02:40:00  01:02:42   \n",
       "\n",
       "  Atraso Entrada - Checkin Manual Atraso Entrada - Checkin GPS  \n",
       "0                        00:00:00                     00:00:00  \n",
       "1                        00:00:00                     00:00:00  \n",
       "2                        00:00:00                     00:00:00  \n",
       "3                        00:00:00                     00:00:00  \n",
       "4                        00:00:00                     00:00:00  \n",
       "\n",
       "[5 rows x 37 columns]"
      ]
     },
     "execution_count": 3,
     "metadata": {},
     "output_type": "execute_result"
    }
   ],
   "source": [
    "visitas.head()"
   ]
  },
  {
   "cell_type": "code",
   "execution_count": 4,
   "metadata": {},
   "outputs": [],
   "source": [
    "# Selecionar colununas que serão utilizadas\n",
    "\n",
    "visitas =  visitas[['Rede','Bandeira', 'Cidade','Estado','Tipo PDV', 'Canal PDV',\n",
    "                                   'Razão não Visitou', 'Tempo em Loja realizado - Manual',\n",
    "                                   'Tempo em Loja realizado - GPS','Tempo em Loja Previsto']]"
   ]
  },
  {
   "cell_type": "markdown",
   "metadata": {},
   "source": [
    "As colunas referente a tempos se encontram em um formato strings (caractéres) e não podem ser trabalhadas assim. Portanto serão transformadas para o formtato de tempo (hh:mm:ss)"
   ]
  },
  {
   "cell_type": "code",
   "execution_count": 5,
   "metadata": {},
   "outputs": [],
   "source": [
    "# Transformar as colunas de texto (strings) para o formtato de tempo (hh:mm:ss)\n",
    "\n",
    "visitas['Tempo em Loja realizado - Manual'] = pd.to_timedelta(visitas['Tempo em Loja realizado - Manual'])\n",
    "visitas['Tempo em Loja realizado - GPS'] = pd.to_timedelta(visitas['Tempo em Loja realizado - GPS'])\n",
    "visitas['Tempo em Loja Previsto'] = pd.to_timedelta(visitas['Tempo em Loja Previsto'])\n"
   ]
  },
  {
   "cell_type": "code",
   "execution_count": 6,
   "metadata": {},
   "outputs": [
    {
     "data": {
      "text/plain": [
       "(453, 7)"
      ]
     },
     "execution_count": 6,
     "metadata": {},
     "output_type": "execute_result"
    }
   ],
   "source": [
    "# Criar novas colunas com valores em minutos\n",
    "\n",
    "visitas['Dif Manual / GPS (min)'] = ((visitas['Tempo em Loja realizado - Manual'] - visitas['Tempo em Loja realizado - GPS']).dt.total_seconds())/60\n",
    "visitas['Dif Manual/ Prev (min)'] = ((visitas['Tempo em Loja realizado - Manual'] - visitas['Tempo em Loja Previsto']).dt.total_seconds())/60\n",
    "visitas['Tempo GPS (minutos)'] = ((visitas['Tempo em Loja realizado - GPS']).dt.total_seconds())/60\n",
    "\n",
    "# Nova DataFrame com o resumo das colunas referentes a tempo\n",
    "\n",
    "df = visitas[['Tipo PDV','Tempo em Loja realizado - Manual', 'Tempo em Loja realizado - GPS', 'Tempo em Loja Previsto',\n",
    "              'Dif Manual / GPS (min)','Dif Manual/ Prev (min)', 'Tempo GPS (minutos)']]\n",
    "\n",
    "# Eliminar outliers: tempo muito alto (acima de 6 horas) ou igual a zero\n",
    "df = df[(df['Tempo em Loja realizado - Manual'] > pd.Timedelta('00:00:00')) &\n",
    "        (df['Tempo em Loja realizado - Manual'] < pd.Timedelta('06:00:00'))]\n",
    "df= df[(df['Tempo em Loja realizado - GPS'] > pd.Timedelta('00:00:00')) &\n",
    "       (df['Tempo em Loja realizado - GPS'] < pd.Timedelta('06:00:00'))]\n",
    "df= df[(df['Tempo em Loja Previsto'] > pd.Timedelta('00:00:00')) &\n",
    "       (df['Tempo em Loja Previsto'] < pd.Timedelta('06:00:00'))]\n",
    "df= df[(df['Tempo GPS (minutos)'] > 0) & (df['Tempo GPS (minutos)'] < 500)]\n",
    "df.dropna(inplace= True)\n",
    "df.shape"
   ]
  },
  {
   "cell_type": "code",
   "execution_count": 7,
   "metadata": {},
   "outputs": [
    {
     "data": {
      "text/html": [
       "<div>\n",
       "<style scoped>\n",
       "    .dataframe tbody tr th:only-of-type {\n",
       "        vertical-align: middle;\n",
       "    }\n",
       "\n",
       "    .dataframe tbody tr th {\n",
       "        vertical-align: top;\n",
       "    }\n",
       "\n",
       "    .dataframe thead th {\n",
       "        text-align: right;\n",
       "    }\n",
       "</style>\n",
       "<table border=\"1\" class=\"dataframe\">\n",
       "  <thead>\n",
       "    <tr style=\"text-align: right;\">\n",
       "      <th></th>\n",
       "      <th>Tempo em Loja realizado - Manual</th>\n",
       "      <th>Tempo em Loja realizado - GPS</th>\n",
       "      <th>Tempo em Loja Previsto</th>\n",
       "      <th>Dif Manual / GPS (min)</th>\n",
       "      <th>Dif Manual/ Prev (min)</th>\n",
       "      <th>Tempo GPS (minutos)</th>\n",
       "    </tr>\n",
       "  </thead>\n",
       "  <tbody>\n",
       "    <tr>\n",
       "      <th>count</th>\n",
       "      <td>453</td>\n",
       "      <td>453</td>\n",
       "      <td>453</td>\n",
       "      <td>453.000000</td>\n",
       "      <td>453.000000</td>\n",
       "      <td>453.000000</td>\n",
       "    </tr>\n",
       "    <tr>\n",
       "      <th>mean</th>\n",
       "      <td>0 days 02:10:25.869757</td>\n",
       "      <td>0 days 02:08:08.355408</td>\n",
       "      <td>0 days 01:47:13.377483</td>\n",
       "      <td>2.291906</td>\n",
       "      <td>23.208205</td>\n",
       "      <td>128.139257</td>\n",
       "    </tr>\n",
       "    <tr>\n",
       "      <th>std</th>\n",
       "      <td>0 days 01:10:27.377589</td>\n",
       "      <td>0 days 01:12:41.556652</td>\n",
       "      <td>0 days 00:25:28.774838</td>\n",
       "      <td>44.208118</td>\n",
       "      <td>67.416371</td>\n",
       "      <td>72.692611</td>\n",
       "    </tr>\n",
       "    <tr>\n",
       "      <th>min</th>\n",
       "      <td>0 days 00:05:15</td>\n",
       "      <td>0 days 00:05:02</td>\n",
       "      <td>0 days 01:00:00</td>\n",
       "      <td>-237.233333</td>\n",
       "      <td>-106.866667</td>\n",
       "      <td>5.033333</td>\n",
       "    </tr>\n",
       "    <tr>\n",
       "      <th>25%</th>\n",
       "      <td>0 days 01:19:03</td>\n",
       "      <td>0 days 01:16:26</td>\n",
       "      <td>0 days 01:30:00</td>\n",
       "      <td>-9.316667</td>\n",
       "      <td>-26.883333</td>\n",
       "      <td>76.433333</td>\n",
       "    </tr>\n",
       "    <tr>\n",
       "      <th>50%</th>\n",
       "      <td>0 days 01:56:46</td>\n",
       "      <td>0 days 01:54:41</td>\n",
       "      <td>0 days 02:00:00</td>\n",
       "      <td>-4.033333</td>\n",
       "      <td>15.083333</td>\n",
       "      <td>114.683333</td>\n",
       "    </tr>\n",
       "    <tr>\n",
       "      <th>75%</th>\n",
       "      <td>0 days 02:58:28</td>\n",
       "      <td>0 days 02:51:48</td>\n",
       "      <td>0 days 02:00:00</td>\n",
       "      <td>2.233333</td>\n",
       "      <td>65.116667</td>\n",
       "      <td>171.800000</td>\n",
       "    </tr>\n",
       "    <tr>\n",
       "      <th>max</th>\n",
       "      <td>0 days 05:49:00</td>\n",
       "      <td>0 days 05:51:38</td>\n",
       "      <td>0 days 03:00:00</td>\n",
       "      <td>273.733333</td>\n",
       "      <td>259.000000</td>\n",
       "      <td>351.633333</td>\n",
       "    </tr>\n",
       "  </tbody>\n",
       "</table>\n",
       "</div>"
      ],
      "text/plain": [
       "      Tempo em Loja realizado - Manual Tempo em Loja realizado - GPS  \\\n",
       "count                              453                           453   \n",
       "mean            0 days 02:10:25.869757        0 days 02:08:08.355408   \n",
       "std             0 days 01:10:27.377589        0 days 01:12:41.556652   \n",
       "min                    0 days 00:05:15               0 days 00:05:02   \n",
       "25%                    0 days 01:19:03               0 days 01:16:26   \n",
       "50%                    0 days 01:56:46               0 days 01:54:41   \n",
       "75%                    0 days 02:58:28               0 days 02:51:48   \n",
       "max                    0 days 05:49:00               0 days 05:51:38   \n",
       "\n",
       "       Tempo em Loja Previsto  Dif Manual / GPS (min)  Dif Manual/ Prev (min)  \\\n",
       "count                     453              453.000000              453.000000   \n",
       "mean   0 days 01:47:13.377483                2.291906               23.208205   \n",
       "std    0 days 00:25:28.774838               44.208118               67.416371   \n",
       "min           0 days 01:00:00             -237.233333             -106.866667   \n",
       "25%           0 days 01:30:00               -9.316667              -26.883333   \n",
       "50%           0 days 02:00:00               -4.033333               15.083333   \n",
       "75%           0 days 02:00:00                2.233333               65.116667   \n",
       "max           0 days 03:00:00              273.733333              259.000000   \n",
       "\n",
       "       Tempo GPS (minutos)  \n",
       "count           453.000000  \n",
       "mean            128.139257  \n",
       "std              72.692611  \n",
       "min               5.033333  \n",
       "25%              76.433333  \n",
       "50%             114.683333  \n",
       "75%             171.800000  \n",
       "max             351.633333  "
      ]
     },
     "execution_count": 7,
     "metadata": {},
     "output_type": "execute_result"
    }
   ],
   "source": [
    "#SUMMARY STATS DOS TEMPOS DE VISITA\n",
    "df.describe()"
   ]
  },
  {
   "cell_type": "code",
   "execution_count": 8,
   "metadata": {},
   "outputs": [
    {
     "data": {
      "text/plain": [
       "Rede                                  CIAL ZARAGOZA IMPOR E EXPORT LTDA\n",
       "Bandeira                            COMERCIAL ZARAGOZA IMPORTACAO E EXP\n",
       "Cidade                                                             Mauá\n",
       "Estado                                                               SP\n",
       "Tipo PDV                                             10 a 19 Check outs\n",
       "Canal PDV                                                      Atacados\n",
       "Razão não Visitou                                                   NaN\n",
       "Tempo em Loja realizado - Manual                        0 days 03:40:31\n",
       "Tempo em Loja realizado - GPS                           0 days 00:05:02\n",
       "Tempo em Loja Previsto                                  0 days 02:00:00\n",
       "Dif Manual / GPS (min)                                          215.483\n",
       "Dif Manual/ Prev (min)                                          100.517\n",
       "Tempo GPS (minutos)                                             5.03333\n",
       "Name: 5513, dtype: object"
      ]
     },
     "execution_count": 8,
     "metadata": {},
     "output_type": "execute_result"
    }
   ],
   "source": [
    "#REDE COM MENOR TEMPO DE VISITA\n",
    "df['Tempo GPS (minutos)'].idxmin()\n",
    "visitas.iloc[5513]"
   ]
  },
  {
   "cell_type": "code",
   "execution_count": 9,
   "metadata": {},
   "outputs": [
    {
     "data": {
      "text/plain": [
       "Rede                                SUPERMERCADO KRILL DE PERUIBE LTDA\n",
       "Bandeira                                                         KRILL\n",
       "Cidade                                                        Mongaguá\n",
       "Estado                                                              SP\n",
       "Tipo PDV                                              1 a 4 Check outs\n",
       "Canal PDV                                       Contas-Chave Regionais\n",
       "Razão não Visitou                                                  NaN\n",
       "Tempo em Loja realizado - Manual                       0 days 05:40:42\n",
       "Tempo em Loja realizado - GPS                          0 days 05:51:38\n",
       "Tempo em Loja Previsto                                 0 days 02:00:00\n",
       "Dif Manual / GPS (min)                                        -10.9333\n",
       "Dif Manual/ Prev (min)                                           220.7\n",
       "Tempo GPS (minutos)                                            351.633\n",
       "Name: 17587, dtype: object"
      ]
     },
     "execution_count": 9,
     "metadata": {},
     "output_type": "execute_result"
    }
   ],
   "source": [
    "#REDE COM MAIOR TEMPO DE VISITA\n",
    "df['Tempo GPS (minutos)'].idxmax()\n",
    "visitas.iloc[17587]"
   ]
  },
  {
   "cell_type": "code",
   "execution_count": 10,
   "metadata": {},
   "outputs": [
    {
     "name": "stderr",
     "output_type": "stream",
     "text": [
      "/anaconda3/lib/python3.6/site-packages/scipy/stats/stats.py:1713: FutureWarning: Using a non-tuple sequence for multidimensional indexing is deprecated; use `arr[tuple(seq)]` instead of `arr[seq]`. In the future this will be interpreted as an array index, `arr[np.array(seq)]`, which will result either in an error or a different result.\n",
      "  return np.add.reduce(sorted[indexer] * weights, axis=axis) / sumval\n"
     ]
    },
    {
     "data": {
      "image/png": "[encoded data removed]",
      "text/plain": [
       "<Figure size 432x288 with 1 Axes>"
      ]
     },
     "metadata": {},
     "output_type": "display_data"
    }
   ],
   "source": [
    "# DISTRIBUIÇÃO DO TEMPO DE VISITA\n",
    "plt1 = sns.distplot(df['Tempo GPS (minutos)'], bins=30, axlabel = 'Tempo em Loja realizado - GPS(minutos)')\n",
    "plt1= plt.title('Distribuição do tempo de Visita (minutos)')"
   ]
  },
  {
   "cell_type": "code",
   "execution_count": 11,
   "metadata": {},
   "outputs": [
    {
     "data": {
      "image/png": "[encoded data removed]",
      "text/plain": [
       "<Figure size 432x288 with 1 Axes>"
      ]
     },
     "metadata": {},
     "output_type": "display_data"
    }
   ],
   "source": [
    "#TEMPO DE VISITA POR TIPO DE PDV\n",
    "tx = sns.boxplot('Tipo PDV', 'Tempo GPS (minutos)', data = df, width=0.8)\n",
    "tx= tx.set_xticklabels(tx.get_xticklabels(),rotation=45)\n",
    "tx = plt.title('Tempo de visita por Tipo de PDV')"
   ]
  },
  {
   "cell_type": "markdown",
   "metadata": {},
   "source": [
    "## INSIGHTS #1 - VISITAS\n",
    "\n",
    "- O tempo médio de uma visita ao PDV, sem avaliar o tamanho dele, fica em torno de 132 minutos.\n",
    "\n",
    "- A visita mais rápida levou apenas 5 minutos. Ela foi feita no PDV COMERCIAL ZARAGOZA IMPORTACAO E EXP na cidade de Mauá - SP.\n",
    "\n",
    "- A vista mais longa 351 minutos, aproximadamente 5 horas e 51 minutos. Ela foi feita no PDV KRILL na cidade de Mongaguá - SP. Curiosamente esse PDV possuí entre 1 e 4 Check outs. \n",
    "\n",
    "- Os tempos de visitas, monitorado por GPS possuem uma distribuição normal. Podemos assim afirmar que, independente do tamanho do PDV, uma visita deve levar em condições normais entre 76 e 171 minutos.\n",
    "\n",
    "- Dados referentes ao tempo médio de visita por Tipo de PDV.\n",
    "\n",
    "        TEMPO MÉDIO DE VISITA por Tipo PDV\n",
    "        1 a 4 Check outs      153.585749 minutos\n",
    "        5 a 9 Check outs      127.537619 minutos\n",
    "        10 a 19 Check outs    127.042857 minutos\n",
    "        20 a 49 Check outs    117.663242 minutos"
   ]
  },
  {
   "cell_type": "code",
   "execution_count": 12,
   "metadata": {},
   "outputs": [
    {
     "data": {
      "text/html": [
       "<div>\n",
       "<style scoped>\n",
       "    .dataframe tbody tr th:only-of-type {\n",
       "        vertical-align: middle;\n",
       "    }\n",
       "\n",
       "    .dataframe tbody tr th {\n",
       "        vertical-align: top;\n",
       "    }\n",
       "\n",
       "    .dataframe thead tr th {\n",
       "        text-align: left;\n",
       "    }\n",
       "\n",
       "    .dataframe thead tr:last-of-type th {\n",
       "        text-align: right;\n",
       "    }\n",
       "</style>\n",
       "<table border=\"1\" class=\"dataframe\">\n",
       "  <thead>\n",
       "    <tr>\n",
       "      <th></th>\n",
       "      <th colspan=\"4\" halign=\"left\">Dif Manual / GPS (min)</th>\n",
       "      <th colspan=\"4\" halign=\"left\">Dif Manual/ Prev (min)</th>\n",
       "      <th colspan=\"4\" halign=\"left\">Tempo GPS (minutos)</th>\n",
       "    </tr>\n",
       "    <tr>\n",
       "      <th></th>\n",
       "      <th>sum</th>\n",
       "      <th>mean</th>\n",
       "      <th>std</th>\n",
       "      <th>max</th>\n",
       "      <th>sum</th>\n",
       "      <th>mean</th>\n",
       "      <th>std</th>\n",
       "      <th>max</th>\n",
       "      <th>sum</th>\n",
       "      <th>mean</th>\n",
       "      <th>std</th>\n",
       "      <th>max</th>\n",
       "    </tr>\n",
       "    <tr>\n",
       "      <th>Tipo PDV</th>\n",
       "      <th></th>\n",
       "      <th></th>\n",
       "      <th></th>\n",
       "      <th></th>\n",
       "      <th></th>\n",
       "      <th></th>\n",
       "      <th></th>\n",
       "      <th></th>\n",
       "      <th></th>\n",
       "      <th></th>\n",
       "      <th></th>\n",
       "      <th></th>\n",
       "    </tr>\n",
       "  </thead>\n",
       "  <tbody>\n",
       "    <tr>\n",
       "      <th>1 a 4 Check outs</th>\n",
       "      <td>-961.300000</td>\n",
       "      <td>-13.931884</td>\n",
       "      <td>37.334884</td>\n",
       "      <td>70.316667</td>\n",
       "      <td>2466.116667</td>\n",
       "      <td>35.740821</td>\n",
       "      <td>79.972999</td>\n",
       "      <td>227.783333</td>\n",
       "      <td>10597.416667</td>\n",
       "      <td>153.585749</td>\n",
       "      <td>79.920317</td>\n",
       "      <td>351.633333</td>\n",
       "    </tr>\n",
       "    <tr>\n",
       "      <th>10 a 19 Check outs</th>\n",
       "      <td>1828.716667</td>\n",
       "      <td>10.885218</td>\n",
       "      <td>55.159008</td>\n",
       "      <td>215.483333</td>\n",
       "      <td>3821.916667</td>\n",
       "      <td>22.749504</td>\n",
       "      <td>68.433932</td>\n",
       "      <td>236.000000</td>\n",
       "      <td>21343.200000</td>\n",
       "      <td>127.042857</td>\n",
       "      <td>77.612554</td>\n",
       "      <td>345.516667</td>\n",
       "    </tr>\n",
       "    <tr>\n",
       "      <th>20 a 49 Check outs</th>\n",
       "      <td>188.716667</td>\n",
       "      <td>1.292580</td>\n",
       "      <td>35.909302</td>\n",
       "      <td>273.733333</td>\n",
       "      <td>2947.550000</td>\n",
       "      <td>20.188699</td>\n",
       "      <td>63.541990</td>\n",
       "      <td>259.000000</td>\n",
       "      <td>17178.833333</td>\n",
       "      <td>117.663242</td>\n",
       "      <td>65.794162</td>\n",
       "      <td>268.300000</td>\n",
       "    </tr>\n",
       "    <tr>\n",
       "      <th>5 a 9 Check outs</th>\n",
       "      <td>-17.900000</td>\n",
       "      <td>-0.255714</td>\n",
       "      <td>30.058571</td>\n",
       "      <td>140.633333</td>\n",
       "      <td>1277.733333</td>\n",
       "      <td>18.253333</td>\n",
       "      <td>58.724557</td>\n",
       "      <td>148.950000</td>\n",
       "      <td>8927.633333</td>\n",
       "      <td>127.537619</td>\n",
       "      <td>61.332638</td>\n",
       "      <td>268.616667</td>\n",
       "    </tr>\n",
       "  </tbody>\n",
       "</table>\n",
       "</div>"
      ],
      "text/plain": [
       "                   Dif Manual / GPS (min)                                    \\\n",
       "                                      sum       mean        std         max   \n",
       "Tipo PDV                                                                      \n",
       "1 a 4 Check outs              -961.300000 -13.931884  37.334884   70.316667   \n",
       "10 a 19 Check outs            1828.716667  10.885218  55.159008  215.483333   \n",
       "20 a 49 Check outs             188.716667   1.292580  35.909302  273.733333   \n",
       "5 a 9 Check outs               -17.900000  -0.255714  30.058571  140.633333   \n",
       "\n",
       "                   Dif Manual/ Prev (min)                                    \\\n",
       "                                      sum       mean        std         max   \n",
       "Tipo PDV                                                                      \n",
       "1 a 4 Check outs              2466.116667  35.740821  79.972999  227.783333   \n",
       "10 a 19 Check outs            3821.916667  22.749504  68.433932  236.000000   \n",
       "20 a 49 Check outs            2947.550000  20.188699  63.541990  259.000000   \n",
       "5 a 9 Check outs              1277.733333  18.253333  58.724557  148.950000   \n",
       "\n",
       "                   Tempo GPS (minutos)                                     \n",
       "                                   sum        mean        std         max  \n",
       "Tipo PDV                                                                   \n",
       "1 a 4 Check outs          10597.416667  153.585749  79.920317  351.633333  \n",
       "10 a 19 Check outs        21343.200000  127.042857  77.612554  345.516667  \n",
       "20 a 49 Check outs        17178.833333  117.663242  65.794162  268.300000  \n",
       "5 a 9 Check outs           8927.633333  127.537619  61.332638  268.616667  "
      ]
     },
     "execution_count": 12,
     "metadata": {},
     "output_type": "execute_result"
    }
   ],
   "source": [
    "df.groupby('Tipo PDV').agg(['sum', 'mean', 'std','max'])"
   ]
  },
  {
   "cell_type": "code",
   "execution_count": 13,
   "metadata": {},
   "outputs": [
    {
     "name": "stderr",
     "output_type": "stream",
     "text": [
      "/anaconda3/lib/python3.6/site-packages/scipy/stats/stats.py:1713: FutureWarning: Using a non-tuple sequence for multidimensional indexing is deprecated; use `arr[tuple(seq)]` instead of `arr[seq]`. In the future this will be interpreted as an array index, `arr[np.array(seq)]`, which will result either in an error or a different result.\n",
      "  return np.add.reduce(sorted[indexer] * weights, axis=axis) / sumval\n"
     ]
    },
    {
     "data": {
      "image/png": "[encoded data removed]",
      "text/plain": [
       "<Figure size 432x288 with 1 Axes>"
      ]
     },
     "metadata": {},
     "output_type": "display_data"
    }
   ],
   "source": [
    "# PLOT DA DIFERENÇA ENTRE E EXECUTADO PREVISTO \n",
    "r = sns.distplot(df['Dif Manual/ Prev (min)'], bins=30, axlabel = 'Diferença Manual e Previsto (min)')\n",
    "r = plt.title('Diferença tempo Manual e Previsto (minutos)')"
   ]
  },
  {
   "cell_type": "code",
   "execution_count": 14,
   "metadata": {},
   "outputs": [
    {
     "data": {
      "text/plain": [
       "Text(0.5, 1.0, 'Tipo PDV e Diferença Manual/ Prev (min)')"
      ]
     },
     "execution_count": 14,
     "metadata": {},
     "output_type": "execute_result"
    },
    {
     "data": {
      "image/png": "[encoded data removed]",
      "text/plain": [
       "<Figure size 432x288 with 1 Axes>"
      ]
     },
     "metadata": {},
     "output_type": "display_data"
    }
   ],
   "source": [
    "# DIFERENÇA MANUAL E PREVISTO POR TIPO DE PDV\n",
    "ax = sns.boxplot('Tipo PDV', 'Dif Manual/ Prev (min)', data = df, width=0.8)\n",
    "ax.set_xticklabels(ax.get_xticklabels(),rotation=45)\n",
    "ax.set_title('Tipo PDV e Diferença Manual/ Prev (min)')"
   ]
  },
  {
   "cell_type": "code",
   "execution_count": 15,
   "metadata": {},
   "outputs": [
    {
     "data": {
      "text/plain": [
       "11.55"
      ]
     },
     "execution_count": 15,
     "metadata": {},
     "output_type": "execute_result"
    }
   ],
   "source": [
    "# IQR DO DA DIFERENÇA ENTRE MANUAL E GPS\n",
    "scy.iqr(df['Dif Manual / GPS (min)'])"
   ]
  },
  {
   "cell_type": "code",
   "execution_count": 16,
   "metadata": {},
   "outputs": [
    {
     "data": {
      "text/plain": [
       "92.0"
      ]
     },
     "execution_count": 16,
     "metadata": {},
     "output_type": "execute_result"
    }
   ],
   "source": [
    "# IQR DO DA DIFERENÇA ENTRE MANUAL E PREVISTO\n",
    "scy.iqr(df['Dif Manual/ Prev (min)'])"
   ]
  },
  {
   "cell_type": "code",
   "execution_count": 17,
   "metadata": {},
   "outputs": [
    {
     "data": {
      "text/plain": [
       "Tipo PDV\n",
       "1 a 4 Check outs      128.766667\n",
       "10 a 19 Check outs    110.516667\n",
       "20 a 49 Check outs    114.150000\n",
       "5 a 9 Check outs      118.416667\n",
       "Name: Tempo GPS (minutos), dtype: float64"
      ]
     },
     "execution_count": 17,
     "metadata": {},
     "output_type": "execute_result"
    }
   ],
   "source": [
    "# MEDIANA POR TIPO DE PDV\n",
    "df.groupby(['Tipo PDV']).median()['Tempo GPS (minutos)']"
   ]
  },
  {
   "cell_type": "code",
   "execution_count": 18,
   "metadata": {},
   "outputs": [
    {
     "data": {
      "text/plain": [
       "count    453.000000\n",
       "mean      55.567439\n",
       "std       44.611747\n",
       "min        0.350000\n",
       "25%       21.300000\n",
       "50%       47.916667\n",
       "75%       77.150000\n",
       "max      259.000000\n",
       "Name: Dif Manual/ Prev (min), dtype: float64"
      ]
     },
     "execution_count": 18,
     "metadata": {},
     "output_type": "execute_result"
    }
   ],
   "source": [
    "#SUMMARY STATS DA DIF. ABSOLUTA ENTRE EXECUTADO E PREVISTO\n",
    "abs(df['Dif Manual/ Prev (min)']).describe()"
   ]
  },
  {
   "cell_type": "code",
   "execution_count": 19,
   "metadata": {},
   "outputs": [
    {
     "data": {
      "text/plain": [
       "count    453.000000\n",
       "mean      24.702723\n",
       "std       36.715767\n",
       "min        0.066667\n",
       "25%        3.866667\n",
       "50%        8.000000\n",
       "75%       29.816667\n",
       "max      273.733333\n",
       "Name: Dif Manual / GPS (min), dtype: float64"
      ]
     },
     "execution_count": 19,
     "metadata": {},
     "output_type": "execute_result"
    }
   ],
   "source": [
    "#SUMMARY STATS DA DIF. ABSOLUTA ENTRE MANUAL E GPS \n",
    "abs(df['Dif Manual / GPS (min)']).describe()"
   ]
  },
  {
   "cell_type": "markdown",
   "metadata": {},
   "source": [
    "## INSIGHTS #2 - GPS VS MANUAL VS PREVISTO\n",
    "\n",
    "- O erro médio entre o tempo manual e o previsto é um valor positivo de 23.21 minutos, o que quer dizer que o valor previsto é inferior a realidade. \n",
    "- Em termos de erro absoluto a média de erro é de 55.6 minutos. \n",
    "- Como podemos observar no boxplot 'Tipo PDV e Diferença Manual/ Prev (min)', o tempo de erro entre o tempo manual e o previsto ocorre independente do Tipo de PDV. Já que a mediana e o IQR são semelhantes entre os grupos.\n",
    "- O erro médio entre o Tempo em Loja realizado - Manual e o Tempo em Loja realizado - GPS é de 24 minutos, sendo que a diferença máxima foi de 274 minutos e a mínima foi de 0.06 minutos, o que é muito próximo do ideal.\n"
   ]
  },
  {
   "cell_type": "code",
   "execution_count": 20,
   "metadata": {},
   "outputs": [
    {
     "data": {
      "text/html": [
       "<div>\n",
       "<style scoped>\n",
       "    .dataframe tbody tr th:only-of-type {\n",
       "        vertical-align: middle;\n",
       "    }\n",
       "\n",
       "    .dataframe tbody tr th {\n",
       "        vertical-align: top;\n",
       "    }\n",
       "\n",
       "    .dataframe thead th {\n",
       "        text-align: right;\n",
       "    }\n",
       "</style>\n",
       "<table border=\"1\" class=\"dataframe\">\n",
       "  <thead>\n",
       "    <tr style=\"text-align: right;\">\n",
       "      <th></th>\n",
       "      <th>Nome do PDV</th>\n",
       "      <th>Bandeira</th>\n",
       "      <th>Rede</th>\n",
       "      <th>Tipo do PDV</th>\n",
       "      <th>Canal do PDV</th>\n",
       "      <th>Regional</th>\n",
       "      <th>Macro Regional</th>\n",
       "      <th>Cidade</th>\n",
       "      <th>UF</th>\n",
       "      <th>Logradouro</th>\n",
       "      <th>Número</th>\n",
       "      <th>Complemento</th>\n",
       "      <th>Bairro</th>\n",
       "      <th>CEP</th>\n",
       "      <th>Latitude</th>\n",
       "      <th>Longitude</th>\n",
       "    </tr>\n",
       "  </thead>\n",
       "  <tbody>\n",
       "    <tr>\n",
       "      <th>0</th>\n",
       "      <td>2M COMERCIO ALIMENTICIO LTDA        0001</td>\n",
       "      <td>SUPERMERCADOS CARINHO</td>\n",
       "      <td>2M COMERCIO ALIMENTICIO LTDA</td>\n",
       "      <td>5 a 9 Check outs</td>\n",
       "      <td>Contas-Chave Regionais</td>\n",
       "      <td>REGIONAL MINAS GERAIS</td>\n",
       "      <td>Macro Regional REGIONAL MINAS GERAIS</td>\n",
       "      <td>Ubá</td>\n",
       "      <td>MG</td>\n",
       "      <td>R CEL G TEIXEIRA DE ABREU 569</td>\n",
       "      <td>NaN</td>\n",
       "      <td>NaN</td>\n",
       "      <td>CENTRO</td>\n",
       "      <td>36500000</td>\n",
       "      <td>\"-21.115482\"</td>\n",
       "      <td>\"-42.943907\"</td>\n",
       "    </tr>\n",
       "    <tr>\n",
       "      <th>1</th>\n",
       "      <td>5M CIAL ATAC  VAREJ DE ALIM LT 0001</td>\n",
       "      <td>BEM BARATO</td>\n",
       "      <td>5M CIAL ATAC VAREJ DE ALIM LTDA ME-010250585</td>\n",
       "      <td>NaN</td>\n",
       "      <td>Contas-Chave Regionais</td>\n",
       "      <td>REGIONAL SAO PAULO</td>\n",
       "      <td>Macro Regional REGIONAL SAO PAULO</td>\n",
       "      <td>São Bernardo do Campo</td>\n",
       "      <td>SP</td>\n",
       "      <td>RUA VITORIO BERNADELLO 77</td>\n",
       "      <td>NaN</td>\n",
       "      <td>NaN</td>\n",
       "      <td>JARDIM IMPERADOR</td>\n",
       "      <td>09851070</td>\n",
       "      <td>\"-23.718141\"</td>\n",
       "      <td>\"-46.5846075\"</td>\n",
       "    </tr>\n",
       "    <tr>\n",
       "      <th>2</th>\n",
       "      <td>5M CIAL ATAC VAREJ DE ALIM LTD 0003</td>\n",
       "      <td>BEM BARATO</td>\n",
       "      <td>5M CIAL ATAC VAREJ DE ALIM LTDA ME-010250585</td>\n",
       "      <td>NaN</td>\n",
       "      <td>Contas-Chave Regionais</td>\n",
       "      <td>REGIONAL SAO PAULO</td>\n",
       "      <td>Macro Regional REGIONAL SAO PAULO</td>\n",
       "      <td>São Bernardo do Campo</td>\n",
       "      <td>SP</td>\n",
       "      <td>RUA ALFERES BONILHA 90</td>\n",
       "      <td>NaN</td>\n",
       "      <td>NaN</td>\n",
       "      <td>CENTRO</td>\n",
       "      <td>09721230</td>\n",
       "      <td>\"-23.7140239\"</td>\n",
       "      <td>\"-46.5511428\"</td>\n",
       "    </tr>\n",
       "    <tr>\n",
       "      <th>3</th>\n",
       "      <td>5M COMERCIO ATACADISTA E VAREJ 0004</td>\n",
       "      <td>5M COMERCIO ATACADISTA E VAREJ</td>\n",
       "      <td>5M CIAL ATAC VAREJ DE ALIM LTDA ME-010250585</td>\n",
       "      <td>NaN</td>\n",
       "      <td>Contas-Chave Regionais</td>\n",
       "      <td>REGIONAL SAO PAULO</td>\n",
       "      <td>Macro Regional REGIONAL SAO PAULO</td>\n",
       "      <td>Santo André</td>\n",
       "      <td>SP</td>\n",
       "      <td>AV PALMARES 1000</td>\n",
       "      <td>NaN</td>\n",
       "      <td>NaN</td>\n",
       "      <td>VILA PALMARES</td>\n",
       "      <td>09061410</td>\n",
       "      <td>\"-23.6497792\"</td>\n",
       "      <td>\"-46.5624779\"</td>\n",
       "    </tr>\n",
       "    <tr>\n",
       "      <th>4</th>\n",
       "      <td>707 AUTO SERVICO DE ALIMENTOS  0001</td>\n",
       "      <td>AKKI ATACADISTA</td>\n",
       "      <td>707 AUTO SERVICO DE ALIMENTOS LTDA-012539517</td>\n",
       "      <td>NaN</td>\n",
       "      <td>Atacados</td>\n",
       "      <td>REGIONAL SAO PAULO</td>\n",
       "      <td>Macro Regional REGIONAL SAO PAULO</td>\n",
       "      <td>São Paulo</td>\n",
       "      <td>SP</td>\n",
       "      <td>AVENIDA ROBERT KENNEDY 707</td>\n",
       "      <td>NaN</td>\n",
       "      <td>NaN</td>\n",
       "      <td>SOCORRO</td>\n",
       "      <td>04768000</td>\n",
       "      <td>\"-23.671927020785393\"</td>\n",
       "      <td>\"-46.71205534408364\"</td>\n",
       "    </tr>\n",
       "  </tbody>\n",
       "</table>\n",
       "</div>"
      ],
      "text/plain": [
       "                                Nome do PDV                        Bandeira  \\\n",
       "0  2M COMERCIO ALIMENTICIO LTDA        0001           SUPERMERCADOS CARINHO   \n",
       "1       5M CIAL ATAC  VAREJ DE ALIM LT 0001                      BEM BARATO   \n",
       "2       5M CIAL ATAC VAREJ DE ALIM LTD 0003                      BEM BARATO   \n",
       "3       5M COMERCIO ATACADISTA E VAREJ 0004  5M COMERCIO ATACADISTA E VAREJ   \n",
       "4       707 AUTO SERVICO DE ALIMENTOS  0001                 AKKI ATACADISTA   \n",
       "\n",
       "                                           Rede       Tipo do PDV  \\\n",
       "0                  2M COMERCIO ALIMENTICIO LTDA  5 a 9 Check outs   \n",
       "1  5M CIAL ATAC VAREJ DE ALIM LTDA ME-010250585               NaN   \n",
       "2  5M CIAL ATAC VAREJ DE ALIM LTDA ME-010250585               NaN   \n",
       "3  5M CIAL ATAC VAREJ DE ALIM LTDA ME-010250585               NaN   \n",
       "4  707 AUTO SERVICO DE ALIMENTOS LTDA-012539517               NaN   \n",
       "\n",
       "             Canal do PDV               Regional  \\\n",
       "0  Contas-Chave Regionais  REGIONAL MINAS GERAIS   \n",
       "1  Contas-Chave Regionais     REGIONAL SAO PAULO   \n",
       "2  Contas-Chave Regionais     REGIONAL SAO PAULO   \n",
       "3  Contas-Chave Regionais     REGIONAL SAO PAULO   \n",
       "4                Atacados     REGIONAL SAO PAULO   \n",
       "\n",
       "                         Macro Regional                 Cidade  UF  \\\n",
       "0  Macro Regional REGIONAL MINAS GERAIS                    Ubá  MG   \n",
       "1     Macro Regional REGIONAL SAO PAULO  São Bernardo do Campo  SP   \n",
       "2     Macro Regional REGIONAL SAO PAULO  São Bernardo do Campo  SP   \n",
       "3     Macro Regional REGIONAL SAO PAULO            Santo André  SP   \n",
       "4     Macro Regional REGIONAL SAO PAULO              São Paulo  SP   \n",
       "\n",
       "                      Logradouro  Número Complemento            Bairro  \\\n",
       "0  R CEL G TEIXEIRA DE ABREU 569     NaN         NaN            CENTRO   \n",
       "1      RUA VITORIO BERNADELLO 77     NaN         NaN  JARDIM IMPERADOR   \n",
       "2         RUA ALFERES BONILHA 90     NaN         NaN            CENTRO   \n",
       "3               AV PALMARES 1000     NaN         NaN     VILA PALMARES   \n",
       "4     AVENIDA ROBERT KENNEDY 707     NaN         NaN           SOCORRO   \n",
       "\n",
       "        CEP               Latitude             Longitude  \n",
       "0  36500000           \"-21.115482\"          \"-42.943907\"  \n",
       "1  09851070           \"-23.718141\"         \"-46.5846075\"  \n",
       "2  09721230          \"-23.7140239\"         \"-46.5511428\"  \n",
       "3  09061410          \"-23.6497792\"         \"-46.5624779\"  \n",
       "4  04768000  \"-23.671927020785393\"  \"-46.71205534408364\"  "
      ]
     },
     "execution_count": 20,
     "metadata": {},
     "output_type": "execute_result"
    }
   ],
   "source": [
    "pdv = pd.read_excel('Base de Dados para Prova de Data Scientist v1.xlsx', sheet_name= 'PDVs')\n",
    "pdv.head()"
   ]
  },
  {
   "cell_type": "code",
   "execution_count": 21,
   "metadata": {},
   "outputs": [],
   "source": [
    "# Transformar cordenadas de strings para float\n",
    "pdv.Latitude = pdv.Latitude.str[1:-1].astype(float)\n",
    "pdv.Longitude = pdv.Longitude.str[1:-1].astype(float)"
   ]
  },
  {
   "cell_type": "code",
   "execution_count": 22,
   "metadata": {},
   "outputs": [],
   "source": [
    "#Eliminar colunas que não serão utilizadas\n",
    "pdv = pdv[['Nome do PDV','Bandeira', 'Rede', 'Tipo do PDV', 'Canal do PDV', 'Cidade', 'UF',\n",
    "                             'Latitude', 'Longitude']]"
   ]
  },
  {
   "cell_type": "code",
   "execution_count": 23,
   "metadata": {},
   "outputs": [
    {
     "data": {
      "text/html": [
       "<div>\n",
       "<style scoped>\n",
       "    .dataframe tbody tr th:only-of-type {\n",
       "        vertical-align: middle;\n",
       "    }\n",
       "\n",
       "    .dataframe tbody tr th {\n",
       "        vertical-align: top;\n",
       "    }\n",
       "\n",
       "    .dataframe thead th {\n",
       "        text-align: right;\n",
       "    }\n",
       "</style>\n",
       "<table border=\"1\" class=\"dataframe\">\n",
       "  <thead>\n",
       "    <tr style=\"text-align: right;\">\n",
       "      <th></th>\n",
       "      <th>Nome do PDV</th>\n",
       "      <th>Bandeira</th>\n",
       "      <th>Rede</th>\n",
       "      <th>Tipo do PDV</th>\n",
       "      <th>Canal do PDV</th>\n",
       "      <th>Cidade</th>\n",
       "      <th>UF</th>\n",
       "      <th>Latitude</th>\n",
       "      <th>Longitude</th>\n",
       "    </tr>\n",
       "  </thead>\n",
       "  <tbody>\n",
       "    <tr>\n",
       "      <th>0</th>\n",
       "      <td>2M COMERCIO ALIMENTICIO LTDA        0001</td>\n",
       "      <td>SUPERMERCADOS CARINHO</td>\n",
       "      <td>2M COMERCIO ALIMENTICIO LTDA</td>\n",
       "      <td>5 a 9 Check outs</td>\n",
       "      <td>Contas-Chave Regionais</td>\n",
       "      <td>Ubá</td>\n",
       "      <td>MG</td>\n",
       "      <td>-21.115482</td>\n",
       "      <td>-42.943907</td>\n",
       "    </tr>\n",
       "    <tr>\n",
       "      <th>1</th>\n",
       "      <td>5M CIAL ATAC  VAREJ DE ALIM LT 0001</td>\n",
       "      <td>BEM BARATO</td>\n",
       "      <td>5M CIAL ATAC VAREJ DE ALIM LTDA ME-010250585</td>\n",
       "      <td>NaN</td>\n",
       "      <td>Contas-Chave Regionais</td>\n",
       "      <td>São Bernardo do Campo</td>\n",
       "      <td>SP</td>\n",
       "      <td>-23.718141</td>\n",
       "      <td>-46.584607</td>\n",
       "    </tr>\n",
       "    <tr>\n",
       "      <th>2</th>\n",
       "      <td>5M CIAL ATAC VAREJ DE ALIM LTD 0003</td>\n",
       "      <td>BEM BARATO</td>\n",
       "      <td>5M CIAL ATAC VAREJ DE ALIM LTDA ME-010250585</td>\n",
       "      <td>NaN</td>\n",
       "      <td>Contas-Chave Regionais</td>\n",
       "      <td>São Bernardo do Campo</td>\n",
       "      <td>SP</td>\n",
       "      <td>-23.714024</td>\n",
       "      <td>-46.551143</td>\n",
       "    </tr>\n",
       "    <tr>\n",
       "      <th>3</th>\n",
       "      <td>5M COMERCIO ATACADISTA E VAREJ 0004</td>\n",
       "      <td>5M COMERCIO ATACADISTA E VAREJ</td>\n",
       "      <td>5M CIAL ATAC VAREJ DE ALIM LTDA ME-010250585</td>\n",
       "      <td>NaN</td>\n",
       "      <td>Contas-Chave Regionais</td>\n",
       "      <td>Santo André</td>\n",
       "      <td>SP</td>\n",
       "      <td>-23.649779</td>\n",
       "      <td>-46.562478</td>\n",
       "    </tr>\n",
       "    <tr>\n",
       "      <th>4</th>\n",
       "      <td>707 AUTO SERVICO DE ALIMENTOS  0001</td>\n",
       "      <td>AKKI ATACADISTA</td>\n",
       "      <td>707 AUTO SERVICO DE ALIMENTOS LTDA-012539517</td>\n",
       "      <td>NaN</td>\n",
       "      <td>Atacados</td>\n",
       "      <td>São Paulo</td>\n",
       "      <td>SP</td>\n",
       "      <td>-23.671927</td>\n",
       "      <td>-46.712055</td>\n",
       "    </tr>\n",
       "  </tbody>\n",
       "</table>\n",
       "</div>"
      ],
      "text/plain": [
       "                                Nome do PDV                        Bandeira  \\\n",
       "0  2M COMERCIO ALIMENTICIO LTDA        0001           SUPERMERCADOS CARINHO   \n",
       "1       5M CIAL ATAC  VAREJ DE ALIM LT 0001                      BEM BARATO   \n",
       "2       5M CIAL ATAC VAREJ DE ALIM LTD 0003                      BEM BARATO   \n",
       "3       5M COMERCIO ATACADISTA E VAREJ 0004  5M COMERCIO ATACADISTA E VAREJ   \n",
       "4       707 AUTO SERVICO DE ALIMENTOS  0001                 AKKI ATACADISTA   \n",
       "\n",
       "                                           Rede       Tipo do PDV  \\\n",
       "0                  2M COMERCIO ALIMENTICIO LTDA  5 a 9 Check outs   \n",
       "1  5M CIAL ATAC VAREJ DE ALIM LTDA ME-010250585               NaN   \n",
       "2  5M CIAL ATAC VAREJ DE ALIM LTDA ME-010250585               NaN   \n",
       "3  5M CIAL ATAC VAREJ DE ALIM LTDA ME-010250585               NaN   \n",
       "4  707 AUTO SERVICO DE ALIMENTOS LTDA-012539517               NaN   \n",
       "\n",
       "             Canal do PDV                 Cidade  UF   Latitude  Longitude  \n",
       "0  Contas-Chave Regionais                    Ubá  MG -21.115482 -42.943907  \n",
       "1  Contas-Chave Regionais  São Bernardo do Campo  SP -23.718141 -46.584607  \n",
       "2  Contas-Chave Regionais  São Bernardo do Campo  SP -23.714024 -46.551143  \n",
       "3  Contas-Chave Regionais            Santo André  SP -23.649779 -46.562478  \n",
       "4                Atacados              São Paulo  SP -23.671927 -46.712055  "
      ]
     },
     "execution_count": 23,
     "metadata": {},
     "output_type": "execute_result"
    }
   ],
   "source": [
    "pdv.head()"
   ]
  },
  {
   "cell_type": "markdown",
   "metadata": {},
   "source": [
    "## INSIGHTS #3 - MAPA DE PDVS\n",
    "\n",
    "- (MUUUITO LEGAL) Um mapa com a localização dos PDVs listados, construído somente com as cordenadas de Latitude e Longitude."
   ]
  },
  {
   "cell_type": "code",
   "execution_count": 41,
   "metadata": {},
   "outputs": [
    {
     "data": {
      "image/png": "[encoded data removed]",
      "text/plain": [
       "<Figure size 720x432 with 1 Axes>"
      ]
     },
     "metadata": {},
     "output_type": "display_data"
    }
   ],
   "source": [
    "\n",
    "#CRIAR CORDENADAS\n",
    "pdv['Coordinates'] = list(zip(pdv.Longitude, pdv.Latitude))\n",
    "pdv['Coordinates'] = pdv['Coordinates'].apply(Point)\n",
    "gdf = geopandas.GeoDataFrame(pdv, geometry='Coordinates')\n",
    "\n",
    "#SELECIONAR MAPA\n",
    "world = geopandas.read_file(geopandas.datasets.get_path('naturalearth_lowres'))\n",
    "\n",
    "# RESTRINGIR AMÉRICA DO SUL.\n",
    "ax = world[world.continent == 'South America'].plot(\n",
    "    color='white', edgecolor='black')\n",
    "\n",
    "# PLOT DO MAPA.\n",
    "plt.rcParams['figure.figsize'] = [15, 10]\n",
    "gdf.plot(ax=ax, color='blue', markersize = 1.5, alpha = 0.5)\n",
    "plt.title('PDVs no Brasil')\n",
    "plt.show()"
   ]
  },
  {
   "cell_type": "code",
   "execution_count": 25,
   "metadata": {},
   "outputs": [
    {
     "data": {
      "text/plain": [
       "MG    821\n",
       "SP    651\n",
       "PR    352\n",
       "RJ    334\n",
       "BA    261\n",
       "RS    150\n",
       "SC    124\n",
       "CE    119\n",
       "ES     87\n",
       "SE     60\n",
       "PE     44\n",
       "RN     42\n",
       "MA     28\n",
       "AL     24\n",
       "PB     17\n",
       "PI      2\n",
       "MS      1\n",
       "Name: UF, dtype: int64"
      ]
     },
     "execution_count": 25,
     "metadata": {},
     "output_type": "execute_result"
    }
   ],
   "source": [
    "#QUANTIDADE DE PDVS POR ESTADO\n",
    "pdv['UF'].value_counts()"
   ]
  },
  {
   "cell_type": "code",
   "execution_count": 26,
   "metadata": {},
   "outputs": [
    {
     "data": {
      "text/plain": [
       "UF  Tipo do PDV       \n",
       "MG  10 a 19 Check outs    440\n",
       "    5 a 9 Check outs      267\n",
       "RJ  10 a 19 Check outs    171\n",
       "PR  10 a 19 Check outs    160\n",
       "    20 a 49 Check outs    115\n",
       "RS  10 a 19 Check outs    103\n",
       "BA  10 a 19 Check outs     84\n",
       "CE  10 a 19 Check outs     83\n",
       "MG  20 a 49 Check outs     82\n",
       "SC  10 a 19 Check outs     81\n",
       "BA  1 a 4 Check outs       77\n",
       "RJ  20 a 49 Check outs     73\n",
       "    5 a 9 Check outs       72\n",
       "BA  5 a 9 Check outs       70\n",
       "PR  5 a 9 Check outs       65\n",
       "ES  10 a 19 Check outs     48\n",
       "PE  5 a 9 Check outs       31\n",
       "MG  1 a 4 Check outs       30\n",
       "SE  10 a 19 Check outs     30\n",
       "RS  5 a 9 Check outs       29\n",
       "Name: Nome do PDV, dtype: int64"
      ]
     },
     "execution_count": 26,
     "metadata": {},
     "output_type": "execute_result"
    }
   ],
   "source": [
    "#PDV POR ESTADO E TIPO\n",
    "pdv.groupby(['UF', 'Tipo do PDV']).count()['Nome do PDV'].nlargest(20)"
   ]
  },
  {
   "cell_type": "code",
   "execution_count": 27,
   "metadata": {},
   "outputs": [
    {
     "data": {
      "text/plain": [
       "BH                      150\n",
       "EPA                     109\n",
       "ATACADÃO S/A            102\n",
       "G BARBOSA                70\n",
       "BRETAS                   56\n",
       "CIDADE CANÇÃO SUPERM     45\n",
       "NAGUMO                   44\n",
       "GUANABARA                42\n",
       "CONDOR                   41\n",
       "SUPER MUFFATO            41\n",
       "BAHAMAS S.A              35\n",
       "RISSUL                   32\n",
       "SONDA                    32\n",
       "ABC                      29\n",
       "COOP                     27\n",
       "PREZUNIC                 27\n",
       "0                        26\n",
       "CIA ZAFFARI              23\n",
       "TENDA ATACADO            23\n",
       "ROLDÃO                   23\n",
       "Name: Bandeira, dtype: int64"
      ]
     },
     "execution_count": 27,
     "metadata": {},
     "output_type": "execute_result"
    }
   ],
   "source": [
    "# MAIORES BANDEIRAS\n",
    "pdv['Bandeira'].value_counts().head(20)"
   ]
  },
  {
   "cell_type": "markdown",
   "metadata": {},
   "source": [
    "## INSIGHTS #4 - PDV\n",
    "\n",
    "- Os estados com maior número de PDVs listados.\n",
    "\n",
    "        MG    821\n",
    "        SP    651\n",
    "        PR    352\n",
    "        RJ    334\n",
    "        BA    261\n",
    "        RS    150\n",
    "        \n",
    "- Os Tipos de PDV com maior frequencia e seus respectivos estados.\n",
    "\n",
    "        UF  Tipo do PDV       \n",
    "        MG  10 a 19 Check outs    440\n",
    "            5 a 9 Check outs      267\n",
    "        RJ  10 a 19 Check outs    171\n",
    "        PR  10 a 19 Check outs    160\n",
    "            20 a 49 Check outs    115\n",
    "        RS  10 a 19 Check outs    103\n",
    "        BA  10 a 19 Check outs     84\n",
    "        \n",
    "- As Top 10 Bandeiras mais listadas.\n",
    "\n",
    "        BH                      150\n",
    "        EPA                     109\n",
    "        ATACADÃO S/A            102\n",
    "        G BARBOSA                70\n",
    "        BRETAS                   56\n",
    "        CIDADE CANÇÃO SUPERM     45\n",
    "        NAGUMO                   44\n",
    "        GUANABARA                42\n",
    "        SUPER MUFFATO            41\n",
    "        CONDOR                   41"
   ]
  },
  {
   "cell_type": "code",
   "execution_count": 28,
   "metadata": {},
   "outputs": [
    {
     "data": {
      "text/html": [
       "<div>\n",
       "<style scoped>\n",
       "    .dataframe tbody tr th:only-of-type {\n",
       "        vertical-align: middle;\n",
       "    }\n",
       "\n",
       "    .dataframe tbody tr th {\n",
       "        vertical-align: top;\n",
       "    }\n",
       "\n",
       "    .dataframe thead th {\n",
       "        text-align: right;\n",
       "    }\n",
       "</style>\n",
       "<table border=\"1\" class=\"dataframe\">\n",
       "  <thead>\n",
       "    <tr style=\"text-align: right;\">\n",
       "      <th></th>\n",
       "      <th>Marca</th>\n",
       "      <th>Categoria do Produto</th>\n",
       "      <th>Super Categoria</th>\n",
       "      <th>Linha de Produto</th>\n",
       "      <th>Rede</th>\n",
       "      <th>Bandeira</th>\n",
       "      <th>PDV</th>\n",
       "      <th>Estado</th>\n",
       "      <th>Cidade</th>\n",
       "      <th>Regional</th>\n",
       "      <th>Data e hora da Coleta</th>\n",
       "      <th>Colaborador Notificante</th>\n",
       "      <th>Produto Presente no PDV?</th>\n",
       "      <th>Preço:</th>\n",
       "      <th>O preço é promocional?</th>\n",
       "    </tr>\n",
       "  </thead>\n",
       "  <tbody>\n",
       "    <tr>\n",
       "      <th>0</th>\n",
       "      <td>NESTLE</td>\n",
       "      <td>PERSONAL CRACKER</td>\n",
       "      <td>BISCOITO</td>\n",
       "      <td>NESFIT</td>\n",
       "      <td>SP BRASIL ATACADO VAREJ GEN LTDA LJ</td>\n",
       "      <td>NAGUMO</td>\n",
       "      <td>BOM BRASIL COM  DE ALIMENTOS L 0001</td>\n",
       "      <td>São Paulo</td>\n",
       "      <td>Guarulhos</td>\n",
       "      <td>REGIONAL SAO PAULO</td>\n",
       "      <td>2017-12-30 11:53:52</td>\n",
       "      <td>Abel Malafaia</td>\n",
       "      <td>Ruptura</td>\n",
       "      <td>NaN</td>\n",
       "      <td>NaN</td>\n",
       "    </tr>\n",
       "    <tr>\n",
       "      <th>1</th>\n",
       "      <td>PANCO</td>\n",
       "      <td>CRACKERS</td>\n",
       "      <td>BISCOITO</td>\n",
       "      <td>PANCO MP</td>\n",
       "      <td>SP BRASIL ATACADO VAREJ GEN LTDA LJ</td>\n",
       "      <td>NAGUMO</td>\n",
       "      <td>BOM BRASIL COM  DE ALIMENTOS L 0001</td>\n",
       "      <td>São Paulo</td>\n",
       "      <td>Guarulhos</td>\n",
       "      <td>REGIONAL SAO PAULO</td>\n",
       "      <td>2017-12-30 11:51:46</td>\n",
       "      <td>Abel Malafaia</td>\n",
       "      <td>Presente</td>\n",
       "      <td>5.89</td>\n",
       "      <td>Não</td>\n",
       "    </tr>\n",
       "    <tr>\n",
       "      <th>2</th>\n",
       "      <td>BAUDUCCO</td>\n",
       "      <td>CRACKERS</td>\n",
       "      <td>BISCOITO</td>\n",
       "      <td>CEREALE TB</td>\n",
       "      <td>SP BRASIL ATACADO VAREJ GEN LTDA LJ</td>\n",
       "      <td>NAGUMO</td>\n",
       "      <td>BOM BRASIL COM  DE ALIMENTOS L 0001</td>\n",
       "      <td>São Paulo</td>\n",
       "      <td>Guarulhos</td>\n",
       "      <td>REGIONAL SAO PAULO</td>\n",
       "      <td>2017-12-30 11:51:46</td>\n",
       "      <td>Abel Malafaia</td>\n",
       "      <td>Ruptura</td>\n",
       "      <td>NaN</td>\n",
       "      <td>NaN</td>\n",
       "    </tr>\n",
       "    <tr>\n",
       "      <th>3</th>\n",
       "      <td>BAUDUCCO</td>\n",
       "      <td>CRACKERS</td>\n",
       "      <td>BISCOITO</td>\n",
       "      <td>BAUDUCCO TB</td>\n",
       "      <td>SP BRASIL ATACADO VAREJ GEN LTDA LJ</td>\n",
       "      <td>NAGUMO</td>\n",
       "      <td>BOM BRASIL COM  DE ALIMENTOS L 0001</td>\n",
       "      <td>São Paulo</td>\n",
       "      <td>Guarulhos</td>\n",
       "      <td>REGIONAL SAO PAULO</td>\n",
       "      <td>2017-12-30 11:51:46</td>\n",
       "      <td>Abel Malafaia</td>\n",
       "      <td>Ruptura</td>\n",
       "      <td>NaN</td>\n",
       "      <td>NaN</td>\n",
       "    </tr>\n",
       "    <tr>\n",
       "      <th>4</th>\n",
       "      <td>PANCO</td>\n",
       "      <td>CRACKERS</td>\n",
       "      <td>BISCOITO</td>\n",
       "      <td>PANCO GERGELIM TB</td>\n",
       "      <td>SP BRASIL ATACADO VAREJ GEN LTDA LJ</td>\n",
       "      <td>NAGUMO</td>\n",
       "      <td>BOM BRASIL COM  DE ALIMENTOS L 0001</td>\n",
       "      <td>São Paulo</td>\n",
       "      <td>Guarulhos</td>\n",
       "      <td>REGIONAL SAO PAULO</td>\n",
       "      <td>2017-12-30 11:51:46</td>\n",
       "      <td>Abel Malafaia</td>\n",
       "      <td>Ruptura</td>\n",
       "      <td>NaN</td>\n",
       "      <td>NaN</td>\n",
       "    </tr>\n",
       "  </tbody>\n",
       "</table>\n",
       "</div>"
      ],
      "text/plain": [
       "      Marca Categoria do Produto Super Categoria   Linha de Produto  \\\n",
       "0    NESTLE     PERSONAL CRACKER        BISCOITO            NESFIT    \n",
       "1     PANCO             CRACKERS        BISCOITO          PANCO MP    \n",
       "2  BAUDUCCO             CRACKERS        BISCOITO         CEREALE TB   \n",
       "3  BAUDUCCO             CRACKERS        BISCOITO       BAUDUCCO TB    \n",
       "4     PANCO             CRACKERS        BISCOITO  PANCO GERGELIM TB   \n",
       "\n",
       "                                  Rede Bandeira  \\\n",
       "0  SP BRASIL ATACADO VAREJ GEN LTDA LJ   NAGUMO   \n",
       "1  SP BRASIL ATACADO VAREJ GEN LTDA LJ   NAGUMO   \n",
       "2  SP BRASIL ATACADO VAREJ GEN LTDA LJ   NAGUMO   \n",
       "3  SP BRASIL ATACADO VAREJ GEN LTDA LJ   NAGUMO   \n",
       "4  SP BRASIL ATACADO VAREJ GEN LTDA LJ   NAGUMO   \n",
       "\n",
       "                                   PDV     Estado     Cidade  \\\n",
       "0  BOM BRASIL COM  DE ALIMENTOS L 0001  São Paulo  Guarulhos   \n",
       "1  BOM BRASIL COM  DE ALIMENTOS L 0001  São Paulo  Guarulhos   \n",
       "2  BOM BRASIL COM  DE ALIMENTOS L 0001  São Paulo  Guarulhos   \n",
       "3  BOM BRASIL COM  DE ALIMENTOS L 0001  São Paulo  Guarulhos   \n",
       "4  BOM BRASIL COM  DE ALIMENTOS L 0001  São Paulo  Guarulhos   \n",
       "\n",
       "             Regional Data e hora da Coleta Colaborador Notificante  \\\n",
       "0  REGIONAL SAO PAULO   2017-12-30 11:53:52           Abel Malafaia   \n",
       "1  REGIONAL SAO PAULO   2017-12-30 11:51:46           Abel Malafaia   \n",
       "2  REGIONAL SAO PAULO   2017-12-30 11:51:46           Abel Malafaia   \n",
       "3  REGIONAL SAO PAULO   2017-12-30 11:51:46           Abel Malafaia   \n",
       "4  REGIONAL SAO PAULO   2017-12-30 11:51:46           Abel Malafaia   \n",
       "\n",
       "  Produto Presente no PDV?  Preço: O preço é promocional?  \n",
       "0                  Ruptura     NaN                    NaN  \n",
       "1                 Presente    5.89                    Não  \n",
       "2                  Ruptura     NaN                    NaN  \n",
       "3                  Ruptura     NaN                    NaN  \n",
       "4                  Ruptura     NaN                    NaN  "
      ]
     },
     "execution_count": 28,
     "metadata": {},
     "output_type": "execute_result"
    }
   ],
   "source": [
    "prices = pd.read_excel('Base de Dados para Prova de Data Scientist v1.xlsx', sheet_name= 'Pesquisa de Preços')\n",
    "prices.head()"
   ]
  },
  {
   "cell_type": "code",
   "execution_count": 29,
   "metadata": {},
   "outputs": [
    {
     "data": {
      "text/html": [
       "<div>\n",
       "<style scoped>\n",
       "    .dataframe tbody tr th:only-of-type {\n",
       "        vertical-align: middle;\n",
       "    }\n",
       "\n",
       "    .dataframe tbody tr th {\n",
       "        vertical-align: top;\n",
       "    }\n",
       "\n",
       "    .dataframe thead th {\n",
       "        text-align: right;\n",
       "    }\n",
       "</style>\n",
       "<table border=\"1\" class=\"dataframe\">\n",
       "  <thead>\n",
       "    <tr style=\"text-align: right;\">\n",
       "      <th></th>\n",
       "      <th>Marca</th>\n",
       "      <th>Categoria do Produto</th>\n",
       "      <th>Super Categoria</th>\n",
       "      <th>Linha de Produto</th>\n",
       "      <th>Rede</th>\n",
       "      <th>Bandeira</th>\n",
       "      <th>Estado</th>\n",
       "      <th>Cidade</th>\n",
       "      <th>Produto Presente no PDV?</th>\n",
       "      <th>Preço:</th>\n",
       "      <th>O preço é promocional?</th>\n",
       "    </tr>\n",
       "  </thead>\n",
       "  <tbody>\n",
       "    <tr>\n",
       "      <th>1</th>\n",
       "      <td>PANCO</td>\n",
       "      <td>CRACKERS</td>\n",
       "      <td>BISCOITO</td>\n",
       "      <td>PANCO MP</td>\n",
       "      <td>SP BRASIL ATACADO VAREJ GEN LTDA LJ</td>\n",
       "      <td>NAGUMO</td>\n",
       "      <td>São Paulo</td>\n",
       "      <td>Guarulhos</td>\n",
       "      <td>Presente</td>\n",
       "      <td>5.89</td>\n",
       "      <td>Não</td>\n",
       "    </tr>\n",
       "    <tr>\n",
       "      <th>5</th>\n",
       "      <td>MARILAN</td>\n",
       "      <td>CRACKERS</td>\n",
       "      <td>BISCOITO</td>\n",
       "      <td>MARILAN MANTEIGA MP</td>\n",
       "      <td>SP BRASIL ATACADO VAREJ GEN LTDA LJ</td>\n",
       "      <td>NAGUMO</td>\n",
       "      <td>São Paulo</td>\n",
       "      <td>Guarulhos</td>\n",
       "      <td>Presente</td>\n",
       "      <td>5.99</td>\n",
       "      <td>Não</td>\n",
       "    </tr>\n",
       "    <tr>\n",
       "      <th>6</th>\n",
       "      <td>MARILAN</td>\n",
       "      <td>CRACKERS</td>\n",
       "      <td>BISCOITO</td>\n",
       "      <td>MARILAN LIGHT MP</td>\n",
       "      <td>SP BRASIL ATACADO VAREJ GEN LTDA LJ</td>\n",
       "      <td>NAGUMO</td>\n",
       "      <td>São Paulo</td>\n",
       "      <td>Guarulhos</td>\n",
       "      <td>Presente</td>\n",
       "      <td>5.99</td>\n",
       "      <td>Não</td>\n",
       "    </tr>\n",
       "    <tr>\n",
       "      <th>7</th>\n",
       "      <td>MARILAN</td>\n",
       "      <td>CRACKERS</td>\n",
       "      <td>BISCOITO</td>\n",
       "      <td>MARILAN MP</td>\n",
       "      <td>SP BRASIL ATACADO VAREJ GEN LTDA LJ</td>\n",
       "      <td>NAGUMO</td>\n",
       "      <td>São Paulo</td>\n",
       "      <td>Guarulhos</td>\n",
       "      <td>Presente</td>\n",
       "      <td>5.99</td>\n",
       "      <td>Não</td>\n",
       "    </tr>\n",
       "    <tr>\n",
       "      <th>14</th>\n",
       "      <td>MARILAN</td>\n",
       "      <td>CRACKERS</td>\n",
       "      <td>BISCOITO</td>\n",
       "      <td>MARILAN INTEGRAL MP</td>\n",
       "      <td>SP BRASIL ATACADO VAREJ GEN LTDA LJ</td>\n",
       "      <td>NAGUMO</td>\n",
       "      <td>São Paulo</td>\n",
       "      <td>Guarulhos</td>\n",
       "      <td>Presente</td>\n",
       "      <td>5.99</td>\n",
       "      <td>Não</td>\n",
       "    </tr>\n",
       "  </tbody>\n",
       "</table>\n",
       "</div>"
      ],
      "text/plain": [
       "      Marca Categoria do Produto Super Categoria     Linha de Produto  \\\n",
       "1     PANCO             CRACKERS        BISCOITO            PANCO MP    \n",
       "5   MARILAN             CRACKERS        BISCOITO  MARILAN MANTEIGA MP   \n",
       "6   MARILAN             CRACKERS        BISCOITO     MARILAN LIGHT MP   \n",
       "7   MARILAN             CRACKERS        BISCOITO           MARILAN MP   \n",
       "14  MARILAN             CRACKERS        BISCOITO  MARILAN INTEGRAL MP   \n",
       "\n",
       "                                   Rede Bandeira     Estado     Cidade  \\\n",
       "1   SP BRASIL ATACADO VAREJ GEN LTDA LJ   NAGUMO  São Paulo  Guarulhos   \n",
       "5   SP BRASIL ATACADO VAREJ GEN LTDA LJ   NAGUMO  São Paulo  Guarulhos   \n",
       "6   SP BRASIL ATACADO VAREJ GEN LTDA LJ   NAGUMO  São Paulo  Guarulhos   \n",
       "7   SP BRASIL ATACADO VAREJ GEN LTDA LJ   NAGUMO  São Paulo  Guarulhos   \n",
       "14  SP BRASIL ATACADO VAREJ GEN LTDA LJ   NAGUMO  São Paulo  Guarulhos   \n",
       "\n",
       "   Produto Presente no PDV?  Preço: O preço é promocional?  \n",
       "1                  Presente    5.89                    Não  \n",
       "5                  Presente    5.99                    Não  \n",
       "6                  Presente    5.99                    Não  \n",
       "7                  Presente    5.99                    Não  \n",
       "14                 Presente    5.99                    Não  "
      ]
     },
     "execution_count": 29,
     "metadata": {},
     "output_type": "execute_result"
    }
   ],
   "source": [
    "#selecionar colunas\n",
    "prices = prices[['Marca', 'Categoria do Produto', 'Super Categoria','Linha de Produto',\n",
    "                                  'Rede', 'Bandeira', 'Estado', 'Cidade',\n",
    "                                  'Produto Presente no PDV?', 'Preço:', 'O preço é promocional?']]\n",
    "\n",
    "#remover NAs\n",
    "prices.dropna(inplace= True)\n",
    "prices.head()"
   ]
  },
  {
   "cell_type": "code",
   "execution_count": 30,
   "metadata": {},
   "outputs": [
    {
     "data": {
      "text/plain": [
       "Estado     Cidade        \n",
       "São Paulo  Araçatuba         5.590\n",
       "           Birigui           5.550\n",
       "           Santa Isabel      5.380\n",
       "           Tremembé          5.280\n",
       "           Guararema         5.250\n",
       "           Assis             4.990\n",
       "           Barueri           4.990\n",
       "           Cubatão           4.990\n",
       "           Diadema           4.990\n",
       "           Lins              4.990\n",
       "           Bertioga          4.980\n",
       "           São Sebastião     4.980\n",
       "           Biritiba-Mirim    4.970\n",
       "           Promissão         4.970\n",
       "           Caçapava          4.965\n",
       "           Aparecida         4.950\n",
       "           Mongaguá          4.950\n",
       "           Ubatuba           4.950\n",
       "           Caraguatatuba     4.890\n",
       "           Mauá              4.890\n",
       "Name: Preço:, dtype: float64"
      ]
     },
     "execution_count": 30,
     "metadata": {},
     "output_type": "execute_result"
    }
   ],
   "source": [
    "#CIDADES COM PREÇO MÉDIO MAIS ALTO\n",
    "prices.groupby(['Estado', 'Cidade']).median()['Preço:'].nlargest(20)"
   ]
  },
  {
   "cell_type": "code",
   "execution_count": 31,
   "metadata": {},
   "outputs": [
    {
     "data": {
      "text/plain": [
       "array(['São Paulo'], dtype=object)"
      ]
     },
     "execution_count": 31,
     "metadata": {},
     "output_type": "execute_result"
    }
   ],
   "source": [
    "#SÓ TEM SAMPA\n",
    "prices['Estado'].unique()"
   ]
  },
  {
   "cell_type": "code",
   "execution_count": 32,
   "metadata": {},
   "outputs": [
    {
     "data": {
      "text/plain": [
       "Cidade\n",
       "São Paulo                537\n",
       "Guarulhos                382\n",
       "São José dos Campos      212\n",
       "Caraguatatuba            124\n",
       "Ferraz de Vasconcelos     96\n",
       "Embu das Artes            68\n",
       "Taubaté                   58\n",
       "Santo André               53\n",
       "Taboão da Serra           50\n",
       "Poá                       48\n",
       "São Bernardo do Campo     40\n",
       "São Vicente               40\n",
       "Carapicuíba               39\n",
       "Campinas                  36\n",
       "Caçapava                  36\n",
       "Mogi das Cruzes           36\n",
       "Suzano                    35\n",
       "Birigui                   33\n",
       "Atibaia                   32\n",
       "Praia Grande              27\n",
       "Name: O preço é promocional?, dtype: int64"
      ]
     },
     "execution_count": 32,
     "metadata": {},
     "output_type": "execute_result"
    }
   ],
   "source": [
    "# CIDADES COM MAIOR QUANTIDADE DE PROMOÇÕES\n",
    "prices[prices['O preço é promocional?'] == 'Sim'].groupby(['Cidade']).count()['O preço é promocional?'].nlargest(20)"
   ]
  },
  {
   "cell_type": "code",
   "execution_count": 33,
   "metadata": {},
   "outputs": [
    {
     "data": {
      "text/plain": [
       "Categoria do Produto  Super Categoria\n",
       "AMANTEIGADOS          BISCOITO           6.670000\n",
       "COOKIE INDULGÊNCIA    BISCOITO           6.490000\n",
       "SALGADOS SORTIDOS     BISCOITO           6.188406\n",
       "ROSQUINHAS            BISCOITO           5.120000\n",
       "PERSONAL CRACKER      BISCOITO           4.772539\n",
       "LAMINADO              BISCOITO           4.620753\n",
       "CRACKERS              BISCOITO           4.513073\n",
       "TORRADA EXTRUSADA     TORRADA            3.923544\n",
       "COOKIE SAUDABILIDADE  BISCOITO           3.650000\n",
       "MOLDADOS ESPECIAIS    BISCOITO           3.090000\n",
       "WAFER                 BISCOITO           2.917732\n",
       "RECHEADO DOCE         BISCOITO           2.590000\n",
       "RECHEADO INFANTIL     BISCOITO           2.175000\n",
       "Name: Preço:, dtype: float64"
      ]
     },
     "execution_count": 33,
     "metadata": {},
     "output_type": "execute_result"
    }
   ],
   "source": [
    "#CATEGORIAS DE PRODUTOS MAIS CARAS\n",
    "prices.groupby(['Categoria do Produto', 'Super Categoria']).mean()['Preço:'].nlargest(15)"
   ]
  },
  {
   "cell_type": "code",
   "execution_count": 34,
   "metadata": {},
   "outputs": [
    {
     "data": {
      "text/plain": [
       "Marca     Categoria do Produto\n",
       "BAUDUCCO  AMANTEIGADOS            8.540000\n",
       "          COOKIE INDULGÊNCIA      6.490000\n",
       "PANCO     SALGADOS SORTIDOS       6.354498\n",
       "MARILAN   SALGADOS SORTIDOS       5.917539\n",
       "          AMANTEIGADOS            5.735000\n",
       "PANCO     LAMINADO                5.472209\n",
       "          ROSQUINHAS              5.190000\n",
       "          CRACKERS                5.149115\n",
       "MARILAN   ROSQUINHAS              5.050000\n",
       "          CRACKERS                5.035815\n",
       "          LAMINADO                4.976388\n",
       "NESTLE    PERSONAL CRACKER        4.772539\n",
       "TRIUNFO   LAMINADO                4.245933\n",
       "          CRACKERS                4.129974\n",
       "NESTLE    CRACKERS                3.984805\n",
       "          LAMINADO                3.940568\n",
       "BAUDUCCO  TORRADA EXTRUSADA       3.923544\n",
       "          LAMINADO                3.853535\n",
       "          COOKIE SAUDABILIDADE    3.650000\n",
       "          CRACKERS                3.497021\n",
       "Name: Preço:, dtype: float64"
      ]
     },
     "execution_count": 34,
     "metadata": {},
     "output_type": "execute_result"
    }
   ],
   "source": [
    "#MARCA E CATEGORIA MAIS CARA\n",
    "prices.groupby(['Marca','Categoria do Produto']).mean()['Preço:'].nlargest(20)"
   ]
  },
  {
   "cell_type": "code",
   "execution_count": 35,
   "metadata": {},
   "outputs": [
    {
     "data": {
      "text/plain": [
       "Marca     Categoria do Produto\n",
       "PANCO     SALGADOS SORTIDOS       60.99\n",
       "MARILAN   CRACKERS                50.99\n",
       "          SALGADOS SORTIDOS       50.99\n",
       "PANCO     CRACKERS                50.93\n",
       "NESTLE    PERSONAL CRACKER        40.99\n",
       "TRIUNFO   CRACKERS                40.91\n",
       "MARILAN   LAMINADO                37.96\n",
       "BAUDUCCO  TORRADA EXTRUSADA       33.93\n",
       "NESTLE    CRACKERS                30.99\n",
       "BAUDUCCO  LAMINADO                29.90\n",
       "          CRACKERS                28.92\n",
       "PANCO     WAFER                   20.99\n",
       "NESTLE    WAFER                   15.99\n",
       "BAUDUCCO  AMANTEIGADOS             8.54\n",
       "TRIUNFO   LAMINADO                 7.49\n",
       "PANCO     LAMINADO                 7.45\n",
       "BAUDUCCO  COOKIE INDULGÊNCIA       6.49\n",
       "MARILAN   AMANTEIGADOS             6.49\n",
       "NESTLE    LAMINADO                 6.49\n",
       "BAUDUCCO  WAFER                    6.29\n",
       "Name: Preço:, dtype: float64"
      ]
     },
     "execution_count": 35,
     "metadata": {},
     "output_type": "execute_result"
    }
   ],
   "source": [
    "#PRODUTOS MAIS CAROS\n",
    "prices.groupby(['Marca','Categoria do Produto']).max()['Preço:'].nlargest(20)"
   ]
  },
  {
   "cell_type": "markdown",
   "metadata": {},
   "source": [
    "## INSIGHTS #5 - PREÇOS\n",
    "\n",
    "- Baseado nos dados, podesse observar que a coleta de preços foi realizada somente no Estado de SP, já que não há preço para outros Estados.\n",
    "       \n",
    "- As cidades com maior média de preço são:\n",
    "\n",
    "        São Paulo  Araçatuba             5.220375\n",
    "                   Promissão             5.103793\n",
    "                   Santa Isabel          5.088714\n",
    "                   Birigui               5.057656\n",
    "                   Assis                 5.050917\n",
    "                   Barueri               5.040000\n",
    "                   Lins                  5.035748\n",
    "\n",
    "\n",
    "- As cidades com maior número de produtos com preços promocionais são:\n",
    "\n",
    "        São Paulo                537\n",
    "        Guarulhos                382\n",
    "        São José dos Campos      212\n",
    "        Caraguatatuba            124\n",
    "        Ferraz de Vasconcelos     96\n",
    "        Embu das Artes            68\n",
    "        Taubaté                   58\n",
    "        Santo André               53\n",
    "\n",
    "\n",
    "- A categoria de produto com a média de preços mais alta são os AMANTEIGADOS com preço médio de R$6,67 \n",
    "\n",
    "\n",
    "- A categoria de produto com a média de preços mais baixo são os RECHEADOS INFANTIS com preço médio de R$2,17 \n",
    "\n",
    "\n",
    "- A Marca e categoria de produto com a média de preço mais alta são os AMANTEIGADOS da BAUDUCO com preço médio de R$8,54 \n",
    "\n",
    "\n",
    "- O produto mais caro são os SALGADOS SORTIDOS da PANCO (R$60.99). Acredito que os produtos de valor superior a 15 reais devem se a embalagens grandes, também conhecidas como bulk, já que foram listadas em grandes atacados. Por este motivo o preço está muito acima da média."
   ]
  },
  {
   "cell_type": "markdown",
   "metadata": {},
   "source": [
    "## INSIGHTS #6 - HYPOTHESIS TEST\n",
    "\n",
    "Baseado nos dados fornecidos, podemos confirmar que os tempos em loja fornecidos de forma manual e os fornecidos pelo GPS são similares.\n",
    "\n",
    "> h(0) = μ(GPS) = μ(Manual) \n",
    "\n",
    "> h(0) = μ(GPS) ≠ μ(Manual)\n",
    "\n",
    "OBS: este teste assume que as amostras são independentes, o que pode não ser o caso.\n"
   ]
  },
  {
   "cell_type": "code",
   "execution_count": 36,
   "metadata": {},
   "outputs": [],
   "source": [
    "#Criar coluna com o Tempo Manual em minutos'\n",
    "visitas['Tempo Manual (minutos)'] = ((visitas['Tempo em Loja realizado - Manual']).dt.total_seconds())/60"
   ]
  },
  {
   "cell_type": "code",
   "execution_count": 37,
   "metadata": {},
   "outputs": [],
   "source": [
    "#Criar novo DataFrame para operação\n",
    "testT = visitas.copy()\n",
    "\n",
    "#remover colunas que não serão utilizadas\n",
    "testT.drop(['Rede', 'Bandeira', 'Estado', 'Razão não Visitou', 'Canal PDV'], axis= 1, inplace=True)\n",
    "\n",
    "#filtar os outiliers ou os tempos igual a zero (que provavelmente não forão coletados)\n",
    "testT= testT[(testT['Tempo GPS (minutos)'] > 0) & (testT['Tempo GPS (minutos)'] < 500)]\n",
    "testT= testT[(testT['Tempo Manual (minutos)'] > 0) & (testT['Tempo Manual (minutos)'] < 500)]"
   ]
  },
  {
   "cell_type": "code",
   "execution_count": 38,
   "metadata": {},
   "outputs": [
    {
     "data": {
      "text/html": [
       "<div>\n",
       "<style scoped>\n",
       "    .dataframe tbody tr th:only-of-type {\n",
       "        vertical-align: middle;\n",
       "    }\n",
       "\n",
       "    .dataframe tbody tr th {\n",
       "        vertical-align: top;\n",
       "    }\n",
       "\n",
       "    .dataframe thead th {\n",
       "        text-align: right;\n",
       "    }\n",
       "</style>\n",
       "<table border=\"1\" class=\"dataframe\">\n",
       "  <thead>\n",
       "    <tr style=\"text-align: right;\">\n",
       "      <th></th>\n",
       "      <th>Cidade</th>\n",
       "      <th>Tipo PDV</th>\n",
       "      <th>Tempo em Loja realizado - Manual</th>\n",
       "      <th>Tempo em Loja realizado - GPS</th>\n",
       "      <th>Tempo em Loja Previsto</th>\n",
       "      <th>Dif Manual / GPS (min)</th>\n",
       "      <th>Dif Manual/ Prev (min)</th>\n",
       "      <th>Tempo GPS (minutos)</th>\n",
       "      <th>Tempo Manual (minutos)</th>\n",
       "    </tr>\n",
       "  </thead>\n",
       "  <tbody>\n",
       "    <tr>\n",
       "      <th>3</th>\n",
       "      <td>Lorena</td>\n",
       "      <td>10 a 19 Check outs</td>\n",
       "      <td>04:14:09</td>\n",
       "      <td>04:16:20</td>\n",
       "      <td>02:00:00</td>\n",
       "      <td>-2.183333</td>\n",
       "      <td>134.150000</td>\n",
       "      <td>256.333333</td>\n",
       "      <td>254.150000</td>\n",
       "    </tr>\n",
       "    <tr>\n",
       "      <th>4</th>\n",
       "      <td>São Paulo</td>\n",
       "      <td>NaN</td>\n",
       "      <td>03:42:42</td>\n",
       "      <td>03:53:35</td>\n",
       "      <td>02:40:00</td>\n",
       "      <td>-10.883333</td>\n",
       "      <td>62.700000</td>\n",
       "      <td>233.583333</td>\n",
       "      <td>222.700000</td>\n",
       "    </tr>\n",
       "    <tr>\n",
       "      <th>5</th>\n",
       "      <td>São Paulo</td>\n",
       "      <td>NaN</td>\n",
       "      <td>01:12:16</td>\n",
       "      <td>00:07:23</td>\n",
       "      <td>01:00:00</td>\n",
       "      <td>64.883333</td>\n",
       "      <td>12.266667</td>\n",
       "      <td>7.383333</td>\n",
       "      <td>72.266667</td>\n",
       "    </tr>\n",
       "    <tr>\n",
       "      <th>7</th>\n",
       "      <td>Guarujá</td>\n",
       "      <td>NaN</td>\n",
       "      <td>03:24:06</td>\n",
       "      <td>03:31:50</td>\n",
       "      <td>01:30:00</td>\n",
       "      <td>-7.733333</td>\n",
       "      <td>114.100000</td>\n",
       "      <td>211.833333</td>\n",
       "      <td>204.100000</td>\n",
       "    </tr>\n",
       "    <tr>\n",
       "      <th>8</th>\n",
       "      <td>São José dos Campos</td>\n",
       "      <td>NaN</td>\n",
       "      <td>04:09:21</td>\n",
       "      <td>04:13:53</td>\n",
       "      <td>02:00:00</td>\n",
       "      <td>-4.533333</td>\n",
       "      <td>129.350000</td>\n",
       "      <td>253.883333</td>\n",
       "      <td>249.350000</td>\n",
       "    </tr>\n",
       "  </tbody>\n",
       "</table>\n",
       "</div>"
      ],
      "text/plain": [
       "                Cidade            Tipo PDV Tempo em Loja realizado - Manual  \\\n",
       "3               Lorena  10 a 19 Check outs                         04:14:09   \n",
       "4            São Paulo                 NaN                         03:42:42   \n",
       "5            São Paulo                 NaN                         01:12:16   \n",
       "7              Guarujá                 NaN                         03:24:06   \n",
       "8  São José dos Campos                 NaN                         04:09:21   \n",
       "\n",
       "  Tempo em Loja realizado - GPS Tempo em Loja Previsto  \\\n",
       "3                      04:16:20               02:00:00   \n",
       "4                      03:53:35               02:40:00   \n",
       "5                      00:07:23               01:00:00   \n",
       "7                      03:31:50               01:30:00   \n",
       "8                      04:13:53               02:00:00   \n",
       "\n",
       "   Dif Manual / GPS (min)  Dif Manual/ Prev (min)  Tempo GPS (minutos)  \\\n",
       "3               -2.183333              134.150000           256.333333   \n",
       "4              -10.883333               62.700000           233.583333   \n",
       "5               64.883333               12.266667             7.383333   \n",
       "7               -7.733333              114.100000           211.833333   \n",
       "8               -4.533333              129.350000           253.883333   \n",
       "\n",
       "   Tempo Manual (minutos)  \n",
       "3              254.150000  \n",
       "4              222.700000  \n",
       "5               72.266667  \n",
       "7              204.100000  \n",
       "8              249.350000  "
      ]
     },
     "execution_count": 38,
     "metadata": {},
     "output_type": "execute_result"
    }
   ],
   "source": [
    "testT.head()"
   ]
  },
  {
   "cell_type": "code",
   "execution_count": 39,
   "metadata": {},
   "outputs": [
    {
     "name": "stderr",
     "output_type": "stream",
     "text": [
      "/anaconda3/lib/python3.6/site-packages/scipy/stats/stats.py:1713: FutureWarning: Using a non-tuple sequence for multidimensional indexing is deprecated; use `arr[tuple(seq)]` instead of `arr[seq]`. In the future this will be interpreted as an array index, `arr[np.array(seq)]`, which will result either in an error or a different result.\n",
      "  return np.add.reduce(sorted[indexer] * weights, axis=axis) / sumval\n"
     ]
    },
    {
     "data": {
      "text/plain": [
       "<matplotlib.legend.Legend at 0x1a1a3415f8>"
      ]
     },
     "execution_count": 39,
     "metadata": {},
     "output_type": "execute_result"
    },
    {
     "data": {
      "image/png": "[encoded data removed]",
      "text/plain": [
       "<Figure size 720x432 with 1 Axes>"
      ]
     },
     "metadata": {},
     "output_type": "display_data"
    }
   ],
   "source": [
    "#Plotar a distribuição de ambos \n",
    "plt.rcParams['figure.figsize'] = [10, 6]\n",
    "ax = sns.distplot(testT['Tempo GPS (minutos)'], hist= False, rug= True, label = 'Tempo GPS')\n",
    "ax = sns.distplot(testT['Tempo Manual (minutos)'], hist= False, rug= True, label = 'Tempo Manual')\n",
    "ax.set_xlabel('Tempo em minutos')\n",
    "ax.set_alpha(0.5)\n",
    "ax.legend()"
   ]
  },
  {
   "cell_type": "code",
   "execution_count": 40,
   "metadata": {},
   "outputs": [
    {
     "data": {
      "text/plain": [
       "Ttest_indResult(statistic=0.27015134936927687, pvalue=0.7870465237171725)"
      ]
     },
     "execution_count": 40,
     "metadata": {},
     "output_type": "execute_result"
    }
   ],
   "source": [
    "#Realizar o t-test\n",
    "ttest_ind(testT['Tempo GPS (minutos)'],testT['Tempo Manual (minutos)'])"
   ]
  },
  {
   "cell_type": "markdown",
   "metadata": {},
   "source": [
    "Um t-test é um tipo de estatística inferencial que é usada para determinar se existe uma diferença significativa entre as médias de dois grupos que podem estar relacionados em certas características. Neste caso foi utilizado os dados referentes aos tempos em loja fornecidos de forma manual e os fornecidos pelo GPS; para análisar se existe uma diferença significativa entre eles.\n",
    "\n",
    "**Resultado: Neste caso utilizaremos um α = .05. Desta forma se o p-value do resultado é maior que α, falha em rejeitar a hipótese nula. Se você rejeitar a hipótese nula, isso implica que sua hipótese alternativa está correta e que os dados são significativos. Se você não rejeitar a hipótese nula, isso implica que não há diferença significativa entre os dados da amostra e os dados fornecidos. O pvalue de 0.7870 é muito alto o que indica que as distribuições são muito semelhantes, ou melhor que não há diferença significativa entre as médias. Portanto podemos afirmar que os tempos em loja fornecidos de forma manual e os fornecidos pelo GPS são similares.**\n",
    "\n",
    "**PS** : *o teste estatístico foi realizado de maneira grosseira sem entender muito bem a natureza e origem dos dados, portanto os resultados não devem ser considerados como verdadeiros sem um estudo mais apropriado.*"
   ]
  },
  {
   "cell_type": "markdown",
   "metadata": {},
   "source": [
    "# Thanks! \"Live long and prosper\""
   ]
  },
  {
   "cell_type": "code",
   "execution_count": null,
   "metadata": {},
   "outputs": [],
   "source": []
  }
 ],
 "metadata": {
  "kernelspec": {
   "display_name": "Python 3",
   "language": "python",
   "name": "python3"
  },
  "language_info": {
   "codemirror_mode": {
    "name": "ipython",
    "version": 3
   },
   "file_extension": ".py",
   "mimetype": "text/x-python",
   "name": "python",
   "nbconvert_exporter": "python",
   "pygments_lexer": "ipython3",
   "version": "3.6.7"
  }
 },
 "nbformat": 4,
 "nbformat_minor": 2
}
